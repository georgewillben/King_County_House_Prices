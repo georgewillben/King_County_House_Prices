{
 "cells": [
  {
   "cell_type": "markdown",
   "metadata": {},
   "source": [
    "# Modeling"
   ]
  },
  {
   "cell_type": "markdown",
   "metadata": {},
   "source": [
    "In this notebook I create the final machine learning models to predict house prices. I will be trying out different feature combinations, different hyperparameter values, and I will experiment with using the log-transformed price and regular price as target values for the models."
   ]
  },
  {
   "cell_type": "code",
   "execution_count": 179,
   "metadata": {},
   "outputs": [],
   "source": [
    "#import libaries\n",
    "import numpy as np\n",
    "import pandas as pd\n",
    "import matplotlib.pyplot as plt\n",
    "import seaborn as sns\n",
    "from sklearn.preprocessing import StandardScaler\n",
    "from sklearn.model_selection import cross_val_score, GridSearchCV, cross_val_predict\n",
    "from sklearn.linear_model import Ridge\n",
    "from sklearn.neighbors import KNeighborsClassifier\n",
    "from sklearn.metrics import mean_squared_error, r2_score"
   ]
  },
  {
   "cell_type": "code",
   "execution_count": 180,
   "metadata": {
    "scrolled": false
   },
   "outputs": [
    {
     "data": {
      "text/html": [
       "<div>\n",
       "<style scoped>\n",
       "    .dataframe tbody tr th:only-of-type {\n",
       "        vertical-align: middle;\n",
       "    }\n",
       "\n",
       "    .dataframe tbody tr th {\n",
       "        vertical-align: top;\n",
       "    }\n",
       "\n",
       "    .dataframe thead th {\n",
       "        text-align: right;\n",
       "    }\n",
       "</style>\n",
       "<table border=\"1\" class=\"dataframe\">\n",
       "  <thead>\n",
       "    <tr style=\"text-align: right;\">\n",
       "      <th></th>\n",
       "      <th>price</th>\n",
       "      <th>bedrooms</th>\n",
       "      <th>bathrooms</th>\n",
       "      <th>sqft_living</th>\n",
       "      <th>sqft_lot</th>\n",
       "      <th>floors</th>\n",
       "      <th>waterfront</th>\n",
       "      <th>view</th>\n",
       "      <th>condition</th>\n",
       "      <th>grade</th>\n",
       "      <th>...</th>\n",
       "      <th>long</th>\n",
       "      <th>sqft_living15</th>\n",
       "      <th>sqft_lot15</th>\n",
       "      <th>log_price</th>\n",
       "      <th>log_sqft_above</th>\n",
       "      <th>log_sqft_living</th>\n",
       "      <th>log_sqft_living15</th>\n",
       "      <th>log_sqft_lot</th>\n",
       "      <th>log_sqft_lot15</th>\n",
       "      <th>mean_log_price_zip</th>\n",
       "    </tr>\n",
       "  </thead>\n",
       "  <tbody>\n",
       "    <tr>\n",
       "      <th>765</th>\n",
       "      <td>636100.0</td>\n",
       "      <td>3</td>\n",
       "      <td>1.00</td>\n",
       "      <td>1010</td>\n",
       "      <td>6000</td>\n",
       "      <td>1.5</td>\n",
       "      <td>0</td>\n",
       "      <td>0</td>\n",
       "      <td>3</td>\n",
       "      <td>7</td>\n",
       "      <td>...</td>\n",
       "      <td>-122.357</td>\n",
       "      <td>1960</td>\n",
       "      <td>4000</td>\n",
       "      <td>13.363111</td>\n",
       "      <td>6.917706</td>\n",
       "      <td>6.917706</td>\n",
       "      <td>7.580700</td>\n",
       "      <td>8.699515</td>\n",
       "      <td>8.294050</td>\n",
       "      <td>13.566601</td>\n",
       "    </tr>\n",
       "    <tr>\n",
       "      <th>3374</th>\n",
       "      <td>575000.0</td>\n",
       "      <td>2</td>\n",
       "      <td>1.00</td>\n",
       "      <td>1510</td>\n",
       "      <td>4032</td>\n",
       "      <td>1.5</td>\n",
       "      <td>0</td>\n",
       "      <td>0</td>\n",
       "      <td>3</td>\n",
       "      <td>8</td>\n",
       "      <td>...</td>\n",
       "      <td>-122.393</td>\n",
       "      <td>1700</td>\n",
       "      <td>4042</td>\n",
       "      <td>13.262125</td>\n",
       "      <td>7.177782</td>\n",
       "      <td>7.319865</td>\n",
       "      <td>7.438384</td>\n",
       "      <td>8.302018</td>\n",
       "      <td>8.304495</td>\n",
       "      <td>13.483263</td>\n",
       "    </tr>\n",
       "    <tr>\n",
       "      <th>5748</th>\n",
       "      <td>1735000.0</td>\n",
       "      <td>4</td>\n",
       "      <td>2.25</td>\n",
       "      <td>3040</td>\n",
       "      <td>5000</td>\n",
       "      <td>2.0</td>\n",
       "      <td>0</td>\n",
       "      <td>3</td>\n",
       "      <td>4</td>\n",
       "      <td>9</td>\n",
       "      <td>...</td>\n",
       "      <td>-122.278</td>\n",
       "      <td>2870</td>\n",
       "      <td>5000</td>\n",
       "      <td>14.366518</td>\n",
       "      <td>7.640123</td>\n",
       "      <td>8.019613</td>\n",
       "      <td>7.962067</td>\n",
       "      <td>8.517193</td>\n",
       "      <td>8.517193</td>\n",
       "      <td>13.552351</td>\n",
       "    </tr>\n",
       "    <tr>\n",
       "      <th>16161</th>\n",
       "      <td>438924.0</td>\n",
       "      <td>3</td>\n",
       "      <td>1.50</td>\n",
       "      <td>1050</td>\n",
       "      <td>4590</td>\n",
       "      <td>1.0</td>\n",
       "      <td>0</td>\n",
       "      <td>0</td>\n",
       "      <td>3</td>\n",
       "      <td>7</td>\n",
       "      <td>...</td>\n",
       "      <td>-122.290</td>\n",
       "      <td>1770</td>\n",
       "      <td>5400</td>\n",
       "      <td>12.992082</td>\n",
       "      <td>6.745236</td>\n",
       "      <td>6.956545</td>\n",
       "      <td>7.478735</td>\n",
       "      <td>8.431635</td>\n",
       "      <td>8.594154</td>\n",
       "      <td>13.283607</td>\n",
       "    </tr>\n",
       "    <tr>\n",
       "      <th>15628</th>\n",
       "      <td>605000.0</td>\n",
       "      <td>4</td>\n",
       "      <td>2.25</td>\n",
       "      <td>2260</td>\n",
       "      <td>11900</td>\n",
       "      <td>2.0</td>\n",
       "      <td>0</td>\n",
       "      <td>0</td>\n",
       "      <td>3</td>\n",
       "      <td>9</td>\n",
       "      <td>...</td>\n",
       "      <td>-122.057</td>\n",
       "      <td>2470</td>\n",
       "      <td>11900</td>\n",
       "      <td>13.312984</td>\n",
       "      <td>7.723120</td>\n",
       "      <td>7.723120</td>\n",
       "      <td>7.811973</td>\n",
       "      <td>9.384294</td>\n",
       "      <td>9.384294</td>\n",
       "      <td>13.380483</td>\n",
       "    </tr>\n",
       "  </tbody>\n",
       "</table>\n",
       "<p>5 rows × 26 columns</p>\n",
       "</div>"
      ],
      "text/plain": [
       "           price  bedrooms  bathrooms  sqft_living  sqft_lot  floors  \\\n",
       "765     636100.0         3       1.00         1010      6000     1.5   \n",
       "3374    575000.0         2       1.00         1510      4032     1.5   \n",
       "5748   1735000.0         4       2.25         3040      5000     2.0   \n",
       "16161   438924.0         3       1.50         1050      4590     1.0   \n",
       "15628   605000.0         4       2.25         2260     11900     2.0   \n",
       "\n",
       "       waterfront  view  condition  grade  ...     long  sqft_living15  \\\n",
       "765             0     0          3      7  ... -122.357           1960   \n",
       "3374            0     0          3      8  ... -122.393           1700   \n",
       "5748            0     3          4      9  ... -122.278           2870   \n",
       "16161           0     0          3      7  ... -122.290           1770   \n",
       "15628           0     0          3      9  ... -122.057           2470   \n",
       "\n",
       "       sqft_lot15  log_price  log_sqft_above  log_sqft_living  \\\n",
       "765          4000  13.363111        6.917706         6.917706   \n",
       "3374         4042  13.262125        7.177782         7.319865   \n",
       "5748         5000  14.366518        7.640123         8.019613   \n",
       "16161        5400  12.992082        6.745236         6.956545   \n",
       "15628       11900  13.312984        7.723120         7.723120   \n",
       "\n",
       "       log_sqft_living15  log_sqft_lot  log_sqft_lot15  mean_log_price_zip  \n",
       "765             7.580700      8.699515        8.294050           13.566601  \n",
       "3374            7.438384      8.302018        8.304495           13.483263  \n",
       "5748            7.962067      8.517193        8.517193           13.552351  \n",
       "16161           7.478735      8.431635        8.594154           13.283607  \n",
       "15628           7.811973      9.384294        9.384294           13.380483  \n",
       "\n",
       "[5 rows x 26 columns]"
      ]
     },
     "execution_count": 180,
     "metadata": {},
     "output_type": "execute_result"
    }
   ],
   "source": [
    "# import data\n",
    "df = pd.read_csv(\"train.csv\")\n",
    "\n",
    "#remove outliers\n",
    "df = df.sort_values(\"log_price\")[:-5]\n",
    "\n",
    "# shuffle\n",
    "df = df.sample(frac=1)\n",
    "\n",
    "df.head()"
   ]
  },
  {
   "cell_type": "markdown",
   "metadata": {},
   "source": [
    "# 1.1 Preprocessing"
   ]
  },
  {
   "cell_type": "markdown",
   "metadata": {},
   "source": [
    "Now I will seperate the data into X and y sets, as well as scale the data with standardization."
   ]
  },
  {
   "cell_type": "code",
   "execution_count": 181,
   "metadata": {},
   "outputs": [],
   "source": [
    "X = df.drop([\"log_price\", \"price\"], axis=1)\n",
    "y_log = df[\"log_price\"]\n",
    "y = df[\"price\"]\n",
    "\n",
    "sc = StandardScaler()\n",
    "X = sc.fit_transform(X)"
   ]
  },
  {
   "cell_type": "markdown",
   "metadata": {},
   "source": [
    "# 1.3 Linear Regression"
   ]
  },
  {
   "cell_type": "markdown",
   "metadata": {},
   "source": [
    "I will use ridge regression with different combinations of features and see which are the best. Then I will tune the regularization hyperparameter to see if that can improve the results."
   ]
  },
  {
   "cell_type": "code",
   "execution_count": 182,
   "metadata": {},
   "outputs": [],
   "source": [
    "ridge = Ridge()"
   ]
  },
  {
   "cell_type": "markdown",
   "metadata": {},
   "source": [
    "# 1.4 RFE"
   ]
  },
  {
   "cell_type": "markdown",
   "metadata": {},
   "source": [
    "Now I will select the best features using recursive feature elimination."
   ]
  },
  {
   "cell_type": "code",
   "execution_count": 183,
   "metadata": {},
   "outputs": [],
   "source": [
    "# try out different combinations of features, also try a model using log price and a model using regular price\n",
    "\n",
    "log_rfes = []\n",
    "norm_rfes = []\n",
    "log_scores = []\n",
    "norm_scores = []\n",
    "n_feats = list(range(1, 10))\n",
    "for i in n_feats:\n",
    "    \n",
    "    log_rfe = RFE(ridge, i).fit(X, y_log)\n",
    "    norm_rfe = RFE(ridge, i).fit(X, y)\n",
    "    \n",
    "    log_rfes.append(log_rfe)\n",
    "    norm_rfes.append(norm_rfe)\n",
    "    \n",
    "    log_scores.append(cross_val_score(log_rfe, X, y_log, cv=5, scoring=\"neg_mean_squared_error\").sum()/-5)\n",
    "    norm_scores.append(cross_val_score(log_rfe, X, y, cv=5, scoring=\"neg_median_absolute_error\").sum()/-5)\n",
    "    "
   ]
  },
  {
   "cell_type": "code",
   "execution_count": 184,
   "metadata": {},
   "outputs": [
    {
     "data": {
      "image/png": "[encoded data removed]",
      "text/plain": [
       "<Figure size 1080x360 with 1 Axes>"
      ]
     },
     "metadata": {
      "needs_background": "light"
     },
     "output_type": "display_data"
    },
    {
     "data": {
      "image/png": "[encoded data removed]",
      "text/plain": [
       "<Figure size 1080x360 with 1 Axes>"
      ]
     },
     "metadata": {
      "needs_background": "light"
     },
     "output_type": "display_data"
    }
   ],
   "source": [
    "plt.figure(figsize=(15, 5))\n",
    "plt.bar(n_feats, log_scores)\n",
    "plt.show()\n",
    "\n",
    "plt.figure(figsize=(15, 5))\n",
    "plt.bar(n_feats, norm_scores)\n",
    "plt.show()"
   ]
  },
  {
   "cell_type": "markdown",
   "metadata": {},
   "source": [
    "It seems that using sqft_living and the mean_log_price_zipcode features returned the best results. Let's try adjusting the hyperparameters (regularization) to see if we can fine tune the model."
   ]
  },
  {
   "cell_type": "code",
   "execution_count": 97,
   "metadata": {},
   "outputs": [],
   "source": [
    "# take grade out of X\n",
    "X = X[:, [3, 8]]"
   ]
  },
  {
   "cell_type": "code",
   "execution_count": 98,
   "metadata": {
    "scrolled": true
   },
   "outputs": [
    {
     "name": "stdout",
     "output_type": "stream",
     "text": [
      "{'alpha': 2}\n",
      "-0.05831945759466741\n"
     ]
    }
   ],
   "source": [
    "# try searching for better alpha (regularization) values\n",
    "gs = GridSearchCV(ridge, {\"alpha\":[0.1, 0.5, 1, 2, 10]}, cv=5, scoring=\"neg_mean_squared_error\")\n",
    "gs.fit(X, y)\n",
    "# find best alpha\n",
    "print(gs.best_params_)\n",
    "# print score\n",
    "print(gs.best_score_)"
   ]
  },
  {
   "cell_type": "code",
   "execution_count": 131,
   "metadata": {},
   "outputs": [
    {
     "name": "stdout",
     "output_type": "stream",
     "text": [
      "{'alpha': 5}\n",
      "-0.05361417239513009\n"
     ]
    }
   ],
   "source": [
    "# try searching for better alpha (regularization) values\n",
    "gs = GridSearchCV(ridge, {\"alpha\":[2, 3, 4, 5, 6, 7]}, cv=5, scoring=\"neg_mean_squared_error\")\n",
    "gs.fit(X, y)\n",
    "# find best alpha\n",
    "print(gs.best_params_)\n",
    "# print score\n",
    "print(gs.best_score_)"
   ]
  },
  {
   "cell_type": "markdown",
   "metadata": {},
   "source": [
    "It seems like an alpha of 3 will work well. The score did not change much, but a higher alpha level will reduce the chances of overfitting"
   ]
  },
  {
   "cell_type": "markdown",
   "metadata": {},
   "source": [
    "Now I will check that the errors are normally distributed and that there is no heteroskedascicity (change in variance of errors). I will also convert the log-scaled price back to regular dollars."
   ]
  },
  {
   "cell_type": "code",
   "execution_count": 132,
   "metadata": {},
   "outputs": [
    {
     "data": {
      "image/png": "[encoded data removed]",
      "text/plain": [
       "<Figure size 1080x360 with 1 Axes>"
      ]
     },
     "metadata": {
      "needs_background": "light"
     },
     "output_type": "display_data"
    },
    {
     "data": {
      "image/png": "[encoded data removed]",
      "text/plain": [
       "<Figure size 1080x360 with 1 Axes>"
      ]
     },
     "metadata": {
      "needs_background": "light"
     },
     "output_type": "display_data"
    }
   ],
   "source": [
    "ridge = gs.best_estimator_\n",
    "\n",
    "# take exp to convert back to dollars\n",
    "y = np.exp(y)\n",
    "y_hat = np.exp(ridge.predict(X))\n",
    "\n",
    "errors = y - y_hat\n",
    "\n",
    "# plot for normality\n",
    "plt.figure(figsize=(15, 5))\n",
    "sns.kdeplot(errors)\n",
    "plt.title(\"Normaility Of Errors\")\n",
    "plt.show()\n",
    "\n",
    "# plot for heteroskedascity\n",
    "plt.figure(figsize=(15, 5))\n",
    "plt.scatter(y_hat, errors, alpha=0.5)\n",
    "plt.axhline(errors.mean(), color=\"red\")\n",
    "plt.title(\"Variance Of Errors With Scale (Heteroskedascity)\")\n",
    "plt.show()"
   ]
  },
  {
   "cell_type": "markdown",
   "metadata": {},
   "source": [
    "It seems the model holds up well until the price gets extremely large."
   ]
  },
  {
   "cell_type": "markdown",
   "metadata": {},
   "source": [
    "## Interpreting Results"
   ]
  },
  {
   "cell_type": "markdown",
   "metadata": {},
   "source": [
    "Now it is time to interpret the model. First let's take a look at the R-squared"
   ]
  },
  {
   "cell_type": "code",
   "execution_count": 126,
   "metadata": {},
   "outputs": [
    {
     "data": {
      "text/plain": [
       "0.550873494324907"
      ]
     },
     "execution_count": 126,
     "metadata": {},
     "output_type": "execute_result"
    }
   ],
   "source": [
    "r2_score(y, y_hat)"
   ]
  },
  {
   "cell_type": "markdown",
   "metadata": {},
   "source": [
    "The R-squared value indicates that the log of the price is approximately %55 related to the mean zipcode log price and the sqft living space. In other words atleast %45 is not predictable with this model and these features. Next let's look at the accuracy of the model with root mean squared error and absolute mean error."
   ]
  },
  {
   "cell_type": "code",
   "execution_count": null,
   "metadata": {},
   "outputs": [],
   "source": [
    "# find rmse"
   ]
  },
  {
   "cell_type": "markdown",
   "metadata": {},
   "source": [
    "The second thing to look at is the coefficients. These are hard to interpret on their own as they are relative to the feature. I will show an example of how much a standard deviation of added living space might do to a houses price."
   ]
  },
  {
   "cell_type": "code",
   "execution_count": 117,
   "metadata": {},
   "outputs": [
    {
     "name": "stdout",
     "output_type": "stream",
     "text": [
      "{'sqft_living': 0.2806003810230018, 'mean_log_price_zip': 0.30435783356493906}\n"
     ]
    }
   ],
   "source": [
    "# print coefficients\n",
    "if \"grade\" in feats:\n",
    "    feats.remove(grade)\n",
    "print(dict(zip(feats, ridge.coef_)))"
   ]
  },
  {
   "cell_type": "code",
   "execution_count": 118,
   "metadata": {},
   "outputs": [
    {
     "data": {
      "text/plain": [
       "916.6734426806632"
      ]
     },
     "execution_count": 118,
     "metadata": {},
     "output_type": "execute_result"
    }
   ],
   "source": [
    "# print the standard deviation for living space\n",
    "df[\"sqft_living\"].std()"
   ]
  },
  {
   "cell_type": "code",
   "execution_count": 119,
   "metadata": {},
   "outputs": [
    {
     "data": {
      "text/plain": [
       "13.049380082470044"
      ]
     },
     "execution_count": 119,
     "metadata": {},
     "output_type": "execute_result"
    }
   ],
   "source": [
    "# print mean house price\n",
    "y.mean()"
   ]
  },
  {
   "cell_type": "markdown",
   "metadata": {},
   "source": [
    "So if the living area of a house was increased by 916 sqft and the house was at average price in the beggining. The increase in price could look something like this."
   ]
  },
  {
   "cell_type": "code",
   "execution_count": 121,
   "metadata": {},
   "outputs": [
    {
     "data": {
      "text/plain": [
       "150562.7259753205"
      ]
     },
     "execution_count": 121,
     "metadata": {},
     "output_type": "execute_result"
    }
   ],
   "source": [
    "np.exp(1*ridge.coef_[0]+y.mean()) - np.exp(y.mean())"
   ]
  },
  {
   "cell_type": "markdown",
   "metadata": {},
   "source": [
    "According to the model there would be a $ 150,500 increase in price."
   ]
  }
 ],
 "metadata": {
  "kernelspec": {
   "display_name": "Python 3",
   "language": "python",
   "name": "python3"
  },
  "language_info": {
   "codemirror_mode": {
    "name": "ipython",
    "version": 3
   },
   "file_extension": ".py",
   "mimetype": "text/x-python",
   "name": "python",
   "nbconvert_exporter": "python",
   "pygments_lexer": "ipython3",
   "version": "3.7.3"
  }
 },
 "nbformat": 4,
 "nbformat_minor": 2
}
