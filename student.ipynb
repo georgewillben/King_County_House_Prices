{
 "cells": [
  {
   "cell_type": "markdown",
   "metadata": {},
   "source": [
    "## Final Project Submission\n",
    "\n",
    "Please fill out:\n",
    "* Student name: George Bennett\n",
    "* Student pace: part-time\n",
    "* Scheduled project review date/time: Tuesday, july 30th, 11:45 AM\n",
    "* Instructor name: Pablo Crespo\n",
    "* Blog post URL: https://medium.com/@georgewillben/scrubbing-data-95614ca03fd5?sk=41f3c91897211a2be6a0b088592f87c9\n",
    "* Video presentation URL: https://youtu.be/dLeri8IzdHU"
   ]
  },
  {
   "cell_type": "markdown",
   "metadata": {},
   "source": [
    "In this project I will be using the data provided in the file 'kc_house_data.csv' to create a model which will be able to predict a house price based on certain attributes of a house. I will be using the five step OSEMN method for this assignment. This is an iterative process, meaning I may go back and revisit some of the previous steps. I will go into more detail on each of the steps as I proceed. The five steps of the OSEMN method are as follows: <br>\n",
    "* Obtain\n",
    "* Scrub\n",
    "* Explore\n",
    "* Model\n",
    "* Interpret"
   ]
  },
  {
   "cell_type": "markdown",
   "metadata": {},
   "source": [
    "# Obtain"
   ]
  },
  {
   "cell_type": "markdown",
   "metadata": {},
   "source": [
    "The goal of the obtain step is to take the file(s) provided to you and transform them into a form where they are more easily delt with. I transformed the dataset from the 'kc_house_data.csv' file into a dataframe object using pandas. I then saved this dataframe to a variable 'df'."
   ]
  },
  {
   "cell_type": "code",
   "execution_count": 1,
   "metadata": {
    "scrolled": true
   },
   "outputs": [
    {
     "data": {
      "text/html": [
       "<div>\n",
       "<style scoped>\n",
       "    .dataframe tbody tr th:only-of-type {\n",
       "        vertical-align: middle;\n",
       "    }\n",
       "\n",
       "    .dataframe tbody tr th {\n",
       "        vertical-align: top;\n",
       "    }\n",
       "\n",
       "    .dataframe thead th {\n",
       "        text-align: right;\n",
       "    }\n",
       "</style>\n",
       "<table border=\"1\" class=\"dataframe\">\n",
       "  <thead>\n",
       "    <tr style=\"text-align: right;\">\n",
       "      <th></th>\n",
       "      <th>id</th>\n",
       "      <th>date</th>\n",
       "      <th>price</th>\n",
       "      <th>bedrooms</th>\n",
       "      <th>bathrooms</th>\n",
       "      <th>sqft_living</th>\n",
       "      <th>sqft_lot</th>\n",
       "      <th>floors</th>\n",
       "      <th>waterfront</th>\n",
       "      <th>view</th>\n",
       "      <th>...</th>\n",
       "      <th>grade</th>\n",
       "      <th>sqft_above</th>\n",
       "      <th>sqft_basement</th>\n",
       "      <th>yr_built</th>\n",
       "      <th>yr_renovated</th>\n",
       "      <th>zipcode</th>\n",
       "      <th>lat</th>\n",
       "      <th>long</th>\n",
       "      <th>sqft_living15</th>\n",
       "      <th>sqft_lot15</th>\n",
       "    </tr>\n",
       "  </thead>\n",
       "  <tbody>\n",
       "    <tr>\n",
       "      <th>0</th>\n",
       "      <td>7129300520</td>\n",
       "      <td>10/13/2014</td>\n",
       "      <td>221900.0</td>\n",
       "      <td>3</td>\n",
       "      <td>1.00</td>\n",
       "      <td>1180</td>\n",
       "      <td>5650</td>\n",
       "      <td>1.0</td>\n",
       "      <td>NaN</td>\n",
       "      <td>0.0</td>\n",
       "      <td>...</td>\n",
       "      <td>7</td>\n",
       "      <td>1180</td>\n",
       "      <td>0.0</td>\n",
       "      <td>1955</td>\n",
       "      <td>0.0</td>\n",
       "      <td>98178</td>\n",
       "      <td>47.5112</td>\n",
       "      <td>-122.257</td>\n",
       "      <td>1340</td>\n",
       "      <td>5650</td>\n",
       "    </tr>\n",
       "    <tr>\n",
       "      <th>1</th>\n",
       "      <td>6414100192</td>\n",
       "      <td>12/9/2014</td>\n",
       "      <td>538000.0</td>\n",
       "      <td>3</td>\n",
       "      <td>2.25</td>\n",
       "      <td>2570</td>\n",
       "      <td>7242</td>\n",
       "      <td>2.0</td>\n",
       "      <td>0.0</td>\n",
       "      <td>0.0</td>\n",
       "      <td>...</td>\n",
       "      <td>7</td>\n",
       "      <td>2170</td>\n",
       "      <td>400.0</td>\n",
       "      <td>1951</td>\n",
       "      <td>1991.0</td>\n",
       "      <td>98125</td>\n",
       "      <td>47.7210</td>\n",
       "      <td>-122.319</td>\n",
       "      <td>1690</td>\n",
       "      <td>7639</td>\n",
       "    </tr>\n",
       "    <tr>\n",
       "      <th>2</th>\n",
       "      <td>5631500400</td>\n",
       "      <td>2/25/2015</td>\n",
       "      <td>180000.0</td>\n",
       "      <td>2</td>\n",
       "      <td>1.00</td>\n",
       "      <td>770</td>\n",
       "      <td>10000</td>\n",
       "      <td>1.0</td>\n",
       "      <td>0.0</td>\n",
       "      <td>0.0</td>\n",
       "      <td>...</td>\n",
       "      <td>6</td>\n",
       "      <td>770</td>\n",
       "      <td>0.0</td>\n",
       "      <td>1933</td>\n",
       "      <td>NaN</td>\n",
       "      <td>98028</td>\n",
       "      <td>47.7379</td>\n",
       "      <td>-122.233</td>\n",
       "      <td>2720</td>\n",
       "      <td>8062</td>\n",
       "    </tr>\n",
       "    <tr>\n",
       "      <th>3</th>\n",
       "      <td>2487200875</td>\n",
       "      <td>12/9/2014</td>\n",
       "      <td>604000.0</td>\n",
       "      <td>4</td>\n",
       "      <td>3.00</td>\n",
       "      <td>1960</td>\n",
       "      <td>5000</td>\n",
       "      <td>1.0</td>\n",
       "      <td>0.0</td>\n",
       "      <td>0.0</td>\n",
       "      <td>...</td>\n",
       "      <td>7</td>\n",
       "      <td>1050</td>\n",
       "      <td>910.0</td>\n",
       "      <td>1965</td>\n",
       "      <td>0.0</td>\n",
       "      <td>98136</td>\n",
       "      <td>47.5208</td>\n",
       "      <td>-122.393</td>\n",
       "      <td>1360</td>\n",
       "      <td>5000</td>\n",
       "    </tr>\n",
       "    <tr>\n",
       "      <th>4</th>\n",
       "      <td>1954400510</td>\n",
       "      <td>2/18/2015</td>\n",
       "      <td>510000.0</td>\n",
       "      <td>3</td>\n",
       "      <td>2.00</td>\n",
       "      <td>1680</td>\n",
       "      <td>8080</td>\n",
       "      <td>1.0</td>\n",
       "      <td>0.0</td>\n",
       "      <td>0.0</td>\n",
       "      <td>...</td>\n",
       "      <td>8</td>\n",
       "      <td>1680</td>\n",
       "      <td>0.0</td>\n",
       "      <td>1987</td>\n",
       "      <td>0.0</td>\n",
       "      <td>98074</td>\n",
       "      <td>47.6168</td>\n",
       "      <td>-122.045</td>\n",
       "      <td>1800</td>\n",
       "      <td>7503</td>\n",
       "    </tr>\n",
       "  </tbody>\n",
       "</table>\n",
       "<p>5 rows × 21 columns</p>\n",
       "</div>"
      ],
      "text/plain": [
       "           id        date     price  bedrooms  bathrooms  sqft_living  \\\n",
       "0  7129300520  10/13/2014  221900.0         3       1.00         1180   \n",
       "1  6414100192   12/9/2014  538000.0         3       2.25         2570   \n",
       "2  5631500400   2/25/2015  180000.0         2       1.00          770   \n",
       "3  2487200875   12/9/2014  604000.0         4       3.00         1960   \n",
       "4  1954400510   2/18/2015  510000.0         3       2.00         1680   \n",
       "\n",
       "   sqft_lot  floors  waterfront  view     ...      grade  sqft_above  \\\n",
       "0      5650     1.0         NaN   0.0     ...          7        1180   \n",
       "1      7242     2.0         0.0   0.0     ...          7        2170   \n",
       "2     10000     1.0         0.0   0.0     ...          6         770   \n",
       "3      5000     1.0         0.0   0.0     ...          7        1050   \n",
       "4      8080     1.0         0.0   0.0     ...          8        1680   \n",
       "\n",
       "   sqft_basement yr_built  yr_renovated  zipcode      lat     long  \\\n",
       "0            0.0     1955           0.0    98178  47.5112 -122.257   \n",
       "1          400.0     1951        1991.0    98125  47.7210 -122.319   \n",
       "2            0.0     1933           NaN    98028  47.7379 -122.233   \n",
       "3          910.0     1965           0.0    98136  47.5208 -122.393   \n",
       "4            0.0     1987           0.0    98074  47.6168 -122.045   \n",
       "\n",
       "   sqft_living15  sqft_lot15  \n",
       "0           1340        5650  \n",
       "1           1690        7639  \n",
       "2           2720        8062  \n",
       "3           1360        5000  \n",
       "4           1800        7503  \n",
       "\n",
       "[5 rows x 21 columns]"
      ]
     },
     "execution_count": 1,
     "metadata": {},
     "output_type": "execute_result"
    }
   ],
   "source": [
    "import pandas as pd\n",
    "\n",
    "df = pd.read_csv('kc_house_data.csv')\n",
    "df.head()"
   ]
  },
  {
   "cell_type": "markdown",
   "metadata": {},
   "source": [
    "This concludes the 'Obtain' step."
   ]
  },
  {
   "cell_type": "markdown",
   "metadata": {},
   "source": [
    "# Scrub"
   ]
  },
  {
   "cell_type": "markdown",
   "metadata": {},
   "source": [
    "The goal of the scrub step is to transform the data to make it usable for creating a model. The scrub step is often the longest step so I broke the step down into parts. To scrub the data I did the following: <br>\n",
    "* Casted data to the appropriate data types\n",
    "* Identified and deal with null values and duplicate values\n",
    "* Removed unnecessary columns\n",
    "* Checked for and deal with multicollinearity\n",
    "* Normalized and scaled the data\n",
    "* One-hot encoded categorial columns"
   ]
  },
  {
   "cell_type": "markdown",
   "metadata": {},
   "source": [
    "##### Cast data to appropiate data types"
   ]
  },
  {
   "cell_type": "markdown",
   "metadata": {},
   "source": [
    "Here I viewed all the different columns and there current data-type"
   ]
  },
  {
   "cell_type": "code",
   "execution_count": 2,
   "metadata": {
    "scrolled": true
   },
   "outputs": [
    {
     "data": {
      "text/plain": [
       "id                 int64\n",
       "date              object\n",
       "price            float64\n",
       "bedrooms           int64\n",
       "bathrooms        float64\n",
       "sqft_living        int64\n",
       "sqft_lot           int64\n",
       "floors           float64\n",
       "waterfront       float64\n",
       "view             float64\n",
       "condition          int64\n",
       "grade              int64\n",
       "sqft_above         int64\n",
       "sqft_basement     object\n",
       "yr_built           int64\n",
       "yr_renovated     float64\n",
       "zipcode            int64\n",
       "lat              float64\n",
       "long             float64\n",
       "sqft_living15      int64\n",
       "sqft_lot15         int64\n",
       "dtype: object"
      ]
     },
     "execution_count": 2,
     "metadata": {},
     "output_type": "execute_result"
    }
   ],
   "source": [
    "df.dtypes"
   ]
  },
  {
   "cell_type": "markdown",
   "metadata": {},
   "source": [
    "Here I checked the number of unique values for every column."
   ]
  },
  {
   "cell_type": "code",
   "execution_count": 3,
   "metadata": {},
   "outputs": [
    {
     "name": "stdout",
     "output_type": "stream",
     "text": [
      "floors   6\n",
      "waterfront   2\n",
      "view   5\n",
      "condition   5\n"
     ]
    }
   ],
   "source": [
    "for column in df.columns:\n",
    "    if df[column].nunique() < 10:\n",
    "        print(column, ' ', df[column].nunique())"
   ]
  },
  {
   "cell_type": "markdown",
   "metadata": {},
   "source": [
    "For the date column I changed it to a datetime value and then converted that datetime value to an interger. I did this because I could not effectively use this column otherwise"
   ]
  },
  {
   "cell_type": "code",
   "execution_count": 4,
   "metadata": {},
   "outputs": [
    {
     "name": "stdout",
     "output_type": "stream",
     "text": [
      "1413158400000000000 int64\n"
     ]
    }
   ],
   "source": [
    "# Convert date to datetime\n",
    "df['date'] = pd.to_datetime(df['date'], format=\"%m/%d/%Y\")\n",
    "\n",
    "# Change datetime to an interger\n",
    "df['date'] = df['date'].astype('int64')\n",
    "\n",
    "# Double check\n",
    "print(df['date'][0], df['date'].dtype)"
   ]
  },
  {
   "cell_type": "markdown",
   "metadata": {},
   "source": [
    "floors, waterfront, condition, view, and zipcode needed to be of the categorical data-type. I chose to make these categorical because floors, condition, waterfront and view have low amounts of  unique values. I chose to make zipcode categorial because zipcodes have no mathmatical relation to one another."
   ]
  },
  {
   "cell_type": "code",
   "execution_count": 5,
   "metadata": {},
   "outputs": [],
   "source": [
    "# Change floors to category data-type\n",
    "df['floors'] = df['floors'].astype('category')"
   ]
  },
  {
   "cell_type": "code",
   "execution_count": 6,
   "metadata": {},
   "outputs": [],
   "source": [
    "# Change condition to category data-type\n",
    "df['condition'] = df['condition'].astype('category')"
   ]
  },
  {
   "cell_type": "code",
   "execution_count": 7,
   "metadata": {},
   "outputs": [],
   "source": [
    "# Change zipcode to category data-type.\n",
    "df['zipcode'] = df['zipcode'].astype('category')"
   ]
  },
  {
   "cell_type": "markdown",
   "metadata": {},
   "source": [
    "I will wait to change waterfront and view because they contain null values. I commented out the two cells below."
   ]
  },
  {
   "cell_type": "code",
   "execution_count": 8,
   "metadata": {},
   "outputs": [],
   "source": [
    "# Change waterfront to category type\n",
    "#df['waterfront'] = df['waterfront'].astype('category')"
   ]
  },
  {
   "cell_type": "code",
   "execution_count": 9,
   "metadata": {},
   "outputs": [],
   "source": [
    "# Change view to category type\n",
    "#df['view'] - df['view'].astype('category')"
   ]
  },
  {
   "cell_type": "markdown",
   "metadata": {},
   "source": [
    "It became apparent to me that there are question marks instead of numbers in the sqft_basement column.\n",
    "I will change this column to the appropriate data-type after I dealt with the missing data. For now I will comment it out. I chose to change sqft_basement to a float because it had no value as a string."
   ]
  },
  {
   "cell_type": "code",
   "execution_count": 10,
   "metadata": {},
   "outputs": [],
   "source": [
    "# Change sqft_basement to be of the float data-type\n",
    "#df['sqft_basement'].astype(float, inplace=True)\n",
    "#df['sqft_basement'].dtype"
   ]
  },
  {
   "cell_type": "markdown",
   "metadata": {},
   "source": [
    "I checked to confirm that all of the columns were of the appropriate data-type (except for sqft_basement, waterfront, and view)"
   ]
  },
  {
   "cell_type": "code",
   "execution_count": 11,
   "metadata": {
    "scrolled": true
   },
   "outputs": [
    {
     "data": {
      "text/plain": [
       "id                  int64\n",
       "date                int64\n",
       "price             float64\n",
       "bedrooms            int64\n",
       "bathrooms         float64\n",
       "sqft_living         int64\n",
       "sqft_lot            int64\n",
       "floors           category\n",
       "waterfront        float64\n",
       "view              float64\n",
       "condition        category\n",
       "grade               int64\n",
       "sqft_above          int64\n",
       "sqft_basement      object\n",
       "yr_built            int64\n",
       "yr_renovated      float64\n",
       "zipcode          category\n",
       "lat               float64\n",
       "long              float64\n",
       "sqft_living15       int64\n",
       "sqft_lot15          int64\n",
       "dtype: object"
      ]
     },
     "execution_count": 11,
     "metadata": {},
     "output_type": "execute_result"
    }
   ],
   "source": [
    "df.dtypes"
   ]
  },
  {
   "cell_type": "markdown",
   "metadata": {},
   "source": [
    "##### Identify and deal with null values and duplicate values"
   ]
  },
  {
   "cell_type": "markdown",
   "metadata": {},
   "source": [
    "Next I identified duplicate values"
   ]
  },
  {
   "cell_type": "code",
   "execution_count": 12,
   "metadata": {},
   "outputs": [
    {
     "name": "stdout",
     "output_type": "stream",
     "text": [
      "0\n"
     ]
    }
   ],
   "source": [
    "# Create a column of the dataframe where elements are either true or false depending on whether the coorisponidng row is duplicate.\n",
    "duplicate_data = df.duplicated()\n",
    "\n",
    "# Print how many duplicate rows were found\n",
    "print(duplicate_data.sum())"
   ]
  },
  {
   "cell_type": "markdown",
   "metadata": {},
   "source": [
    "There were zero duplicate rows"
   ]
  },
  {
   "cell_type": "markdown",
   "metadata": {},
   "source": [
    "To identify columns with null values I used a for loop to check each column and if said column contains null values I appended it's name to a new list variable 'contains_nulls'. I then printed each column name and the number of how many null values it contained and compared it to the amount of rows that were in the dataframe."
   ]
  },
  {
   "cell_type": "code",
   "execution_count": 13,
   "metadata": {
    "scrolled": true
   },
   "outputs": [
    {
     "name": "stdout",
     "output_type": "stream",
     "text": [
      "waterfront 2376\n",
      "view 63\n",
      "yr_renovated 3842\n",
      "rows in dataframe  21597\n"
     ]
    }
   ],
   "source": [
    "import numpy as np\n",
    "\n",
    "# Create list to contain column names of columns containing null values\n",
    "contains_nulls = []\n",
    "\n",
    "# Iterate through every column in the dataframe\n",
    "# Check to see if that column has nulls by using the .isna() method and the .sum() method\n",
    "# If a column contains nulls append that column's name to the list 'contains_nulls'.\n",
    "for column in df.columns:\n",
    "    if df[column].isna().sum() > 0: \n",
    "        contains_nulls.append(column) \n",
    "        print(column, df[column].isna().sum())\n",
    "        \n",
    "# Print how many rows are in the dataframe\n",
    "print('rows in dataframe ', len(df))"
   ]
  },
  {
   "cell_type": "markdown",
   "metadata": {},
   "source": [
    "For the waterfront, view, and yr_renovated columns I replaced the null values in each column with that columns median."
   ]
  },
  {
   "cell_type": "code",
   "execution_count": 14,
   "metadata": {
    "scrolled": false
   },
   "outputs": [],
   "source": [
    "df['waterfront'].replace(np.nan, df['waterfront'].median(), inplace = True)\n",
    "df['view'].replace(np.nan, df['view'].median(), inplace = True)\n",
    "df['yr_renovated'].replace(np.nan, df['yr_renovated'].median(), inplace = True)"
   ]
  },
  {
   "cell_type": "markdown",
   "metadata": {},
   "source": [
    "Then I set the floors, waterfront, view, and condition columns to the category datatype."
   ]
  },
  {
   "cell_type": "code",
   "execution_count": 15,
   "metadata": {
    "scrolled": true
   },
   "outputs": [],
   "source": [
    "df['floors'] = df['floors'].astype('category')\n",
    "df['waterfront'] = df['waterfront'].astype('category')\n",
    "df['view'] = df['view'].astype('category')\n",
    "df['condition'] = df['condition'].astype('category')"
   ]
  },
  {
   "cell_type": "markdown",
   "metadata": {},
   "source": [
    "Next I dealt with the question marks in sqft_basement. I saw how much of sqft_basement is filled with question marks, and I created a list to hold every piece of data that was not a question mark."
   ]
  },
  {
   "cell_type": "code",
   "execution_count": 16,
   "metadata": {
    "scrolled": true
   },
   "outputs": [
    {
     "name": "stdout",
     "output_type": "stream",
     "text": [
      "The sqft_basement column is %2.1 question marks\n"
     ]
    }
   ],
   "source": [
    "import numpy as np\n",
    "\n",
    "# Create list for storing the data that is in sqft_basement, but is not a question mark\n",
    "sqft_basement_no_nulls = []\n",
    "\n",
    "# Iterate through sqft_basement and append all the data to sqft_basement_no_nulls as long as the data is not a question mark\n",
    "for element in df[\"sqft_basement\"]:\n",
    "    if element != '?':\n",
    "        sqft_basement_no_nulls.append(element)\n",
    "        \n",
    "# Find what percentage of sqft_basment is populated by question marks\n",
    "percentage = round(1 - len(sqft_basement_no_nulls) / len(df), 3)*100\n",
    "\n",
    "# Print out how much of sqft_basement is populated with question marks\n",
    "print(\"The sqft_basement column is %{} question marks\".format(percentage))"
   ]
  },
  {
   "cell_type": "markdown",
   "metadata": {},
   "source": [
    "I then replaced the question marks with the median of sqft_basement. To do this I found the median of all the values in sqft_basement that were not question marks. After the holes in the data had been filled I changed the data-type of sqft_basement to float."
   ]
  },
  {
   "cell_type": "code",
   "execution_count": 17,
   "metadata": {},
   "outputs": [],
   "source": [
    "# Converted sqft_basement_no_nulls to a pandas series and then found the median of that series\n",
    "median = pd.Series(sqft_basement_no_nulls).median()\n",
    "\n",
    "# Repaced question marks with the median value\n",
    "df['sqft_basement'].replace('?', median, inplace=True)\n",
    "\n",
    "# Casted sqft_basement to the float data-type\n",
    "df['sqft_basement'] = df['sqft_basement'].astype(float)"
   ]
  },
  {
   "cell_type": "markdown",
   "metadata": {},
   "source": [
    "##### Remove unnecessary columns"
   ]
  },
  {
   "cell_type": "markdown",
   "metadata": {},
   "source": [
    "I First looked at the columns"
   ]
  },
  {
   "cell_type": "code",
   "execution_count": 18,
   "metadata": {
    "scrolled": true
   },
   "outputs": [
    {
     "name": "stdout",
     "output_type": "stream",
     "text": [
      "Index(['id', 'date', 'price', 'bedrooms', 'bathrooms', 'sqft_living',\n",
      "       'sqft_lot', 'floors', 'waterfront', 'view', 'condition', 'grade',\n",
      "       'sqft_above', 'sqft_basement', 'yr_built', 'yr_renovated', 'zipcode',\n",
      "       'lat', 'long', 'sqft_living15', 'sqft_lot15'],\n",
      "      dtype='object')\n"
     ]
    }
   ],
   "source": [
    "print(df.columns)"
   ]
  },
  {
   "cell_type": "markdown",
   "metadata": {},
   "source": [
    "I removed the id column because I believed it to be irrelevent."
   ]
  },
  {
   "cell_type": "code",
   "execution_count": 19,
   "metadata": {},
   "outputs": [],
   "source": [
    "df.drop('id', axis=1, inplace=True)"
   ]
  },
  {
   "cell_type": "markdown",
   "metadata": {},
   "source": [
    "##### Check for and deal with multicolinearity"
   ]
  },
  {
   "cell_type": "markdown",
   "metadata": {},
   "source": [
    "First I made a heat map to visually see how the predictor columns may be correlated."
   ]
  },
  {
   "cell_type": "code",
   "execution_count": 20,
   "metadata": {},
   "outputs": [
    {
     "data": {
      "text/plain": [
       "<Figure size 1200x1200 with 2 Axes>"
      ]
     },
     "metadata": {},
     "output_type": "display_data"
    }
   ],
   "source": [
    "import seaborn as sns\n",
    "import matplotlib.pyplot as plt\n",
    "\n",
    "# set style\n",
    "sns.set(style='white')\n",
    "\n",
    "# create correlation matrix\n",
    "corr = df.drop('price', axis=1).corr()\n",
    "\n",
    "# make a mask for the upper half\n",
    "mask = np.zeros_like(corr, dtype=np.bool)\n",
    "mask[np.triu_indices_from(mask)]=True\n",
    "\n",
    "# set up the figure\n",
    "f, ax = plt.subplots(figsize=(12,12))\n",
    "\n",
    "# create a color map\n",
    "cmap = sns.diverging_palette(220, 10, as_cmap=True)\n",
    "\n",
    "# create heatmap\n",
    "sns.heatmap(corr, mask=mask, cmap = cmap, vmax = 0.75, center = 0, square = True, linewidths = 0.5, cbar_kws={\"shrink\":0.5})\n",
    "plt.show()"
   ]
  },
  {
   "cell_type": "markdown",
   "metadata": {},
   "source": [
    "Next I made a dataframe that shows wether or not each predictor column's correlation to other columns is over 75%"
   ]
  },
  {
   "cell_type": "code",
   "execution_count": 21,
   "metadata": {},
   "outputs": [
    {
     "data": {
      "text/html": [
       "<div>\n",
       "<style scoped>\n",
       "    .dataframe tbody tr th:only-of-type {\n",
       "        vertical-align: middle;\n",
       "    }\n",
       "\n",
       "    .dataframe tbody tr th {\n",
       "        vertical-align: top;\n",
       "    }\n",
       "\n",
       "    .dataframe thead th {\n",
       "        text-align: right;\n",
       "    }\n",
       "</style>\n",
       "<table border=\"1\" class=\"dataframe\">\n",
       "  <thead>\n",
       "    <tr style=\"text-align: right;\">\n",
       "      <th></th>\n",
       "      <th>date</th>\n",
       "      <th>bedrooms</th>\n",
       "      <th>bathrooms</th>\n",
       "      <th>sqft_living</th>\n",
       "      <th>sqft_lot</th>\n",
       "      <th>grade</th>\n",
       "      <th>sqft_above</th>\n",
       "      <th>sqft_basement</th>\n",
       "      <th>yr_built</th>\n",
       "      <th>yr_renovated</th>\n",
       "      <th>lat</th>\n",
       "      <th>long</th>\n",
       "      <th>sqft_living15</th>\n",
       "      <th>sqft_lot15</th>\n",
       "    </tr>\n",
       "  </thead>\n",
       "  <tbody>\n",
       "    <tr>\n",
       "      <th>date</th>\n",
       "      <td>True</td>\n",
       "      <td>False</td>\n",
       "      <td>False</td>\n",
       "      <td>False</td>\n",
       "      <td>False</td>\n",
       "      <td>False</td>\n",
       "      <td>False</td>\n",
       "      <td>False</td>\n",
       "      <td>False</td>\n",
       "      <td>False</td>\n",
       "      <td>False</td>\n",
       "      <td>False</td>\n",
       "      <td>False</td>\n",
       "      <td>False</td>\n",
       "    </tr>\n",
       "    <tr>\n",
       "      <th>bedrooms</th>\n",
       "      <td>False</td>\n",
       "      <td>True</td>\n",
       "      <td>False</td>\n",
       "      <td>False</td>\n",
       "      <td>False</td>\n",
       "      <td>False</td>\n",
       "      <td>False</td>\n",
       "      <td>False</td>\n",
       "      <td>False</td>\n",
       "      <td>False</td>\n",
       "      <td>False</td>\n",
       "      <td>False</td>\n",
       "      <td>False</td>\n",
       "      <td>False</td>\n",
       "    </tr>\n",
       "    <tr>\n",
       "      <th>bathrooms</th>\n",
       "      <td>False</td>\n",
       "      <td>False</td>\n",
       "      <td>True</td>\n",
       "      <td>True</td>\n",
       "      <td>False</td>\n",
       "      <td>False</td>\n",
       "      <td>False</td>\n",
       "      <td>False</td>\n",
       "      <td>False</td>\n",
       "      <td>False</td>\n",
       "      <td>False</td>\n",
       "      <td>False</td>\n",
       "      <td>False</td>\n",
       "      <td>False</td>\n",
       "    </tr>\n",
       "    <tr>\n",
       "      <th>sqft_living</th>\n",
       "      <td>False</td>\n",
       "      <td>False</td>\n",
       "      <td>True</td>\n",
       "      <td>True</td>\n",
       "      <td>False</td>\n",
       "      <td>True</td>\n",
       "      <td>True</td>\n",
       "      <td>False</td>\n",
       "      <td>False</td>\n",
       "      <td>False</td>\n",
       "      <td>False</td>\n",
       "      <td>False</td>\n",
       "      <td>True</td>\n",
       "      <td>False</td>\n",
       "    </tr>\n",
       "    <tr>\n",
       "      <th>sqft_lot</th>\n",
       "      <td>False</td>\n",
       "      <td>False</td>\n",
       "      <td>False</td>\n",
       "      <td>False</td>\n",
       "      <td>True</td>\n",
       "      <td>False</td>\n",
       "      <td>False</td>\n",
       "      <td>False</td>\n",
       "      <td>False</td>\n",
       "      <td>False</td>\n",
       "      <td>False</td>\n",
       "      <td>False</td>\n",
       "      <td>False</td>\n",
       "      <td>False</td>\n",
       "    </tr>\n",
       "    <tr>\n",
       "      <th>grade</th>\n",
       "      <td>False</td>\n",
       "      <td>False</td>\n",
       "      <td>False</td>\n",
       "      <td>True</td>\n",
       "      <td>False</td>\n",
       "      <td>True</td>\n",
       "      <td>True</td>\n",
       "      <td>False</td>\n",
       "      <td>False</td>\n",
       "      <td>False</td>\n",
       "      <td>False</td>\n",
       "      <td>False</td>\n",
       "      <td>False</td>\n",
       "      <td>False</td>\n",
       "    </tr>\n",
       "    <tr>\n",
       "      <th>sqft_above</th>\n",
       "      <td>False</td>\n",
       "      <td>False</td>\n",
       "      <td>False</td>\n",
       "      <td>True</td>\n",
       "      <td>False</td>\n",
       "      <td>True</td>\n",
       "      <td>True</td>\n",
       "      <td>False</td>\n",
       "      <td>False</td>\n",
       "      <td>False</td>\n",
       "      <td>False</td>\n",
       "      <td>False</td>\n",
       "      <td>False</td>\n",
       "      <td>False</td>\n",
       "    </tr>\n",
       "    <tr>\n",
       "      <th>sqft_basement</th>\n",
       "      <td>False</td>\n",
       "      <td>False</td>\n",
       "      <td>False</td>\n",
       "      <td>False</td>\n",
       "      <td>False</td>\n",
       "      <td>False</td>\n",
       "      <td>False</td>\n",
       "      <td>True</td>\n",
       "      <td>False</td>\n",
       "      <td>False</td>\n",
       "      <td>False</td>\n",
       "      <td>False</td>\n",
       "      <td>False</td>\n",
       "      <td>False</td>\n",
       "    </tr>\n",
       "    <tr>\n",
       "      <th>yr_built</th>\n",
       "      <td>False</td>\n",
       "      <td>False</td>\n",
       "      <td>False</td>\n",
       "      <td>False</td>\n",
       "      <td>False</td>\n",
       "      <td>False</td>\n",
       "      <td>False</td>\n",
       "      <td>False</td>\n",
       "      <td>True</td>\n",
       "      <td>False</td>\n",
       "      <td>False</td>\n",
       "      <td>False</td>\n",
       "      <td>False</td>\n",
       "      <td>False</td>\n",
       "    </tr>\n",
       "    <tr>\n",
       "      <th>yr_renovated</th>\n",
       "      <td>False</td>\n",
       "      <td>False</td>\n",
       "      <td>False</td>\n",
       "      <td>False</td>\n",
       "      <td>False</td>\n",
       "      <td>False</td>\n",
       "      <td>False</td>\n",
       "      <td>False</td>\n",
       "      <td>False</td>\n",
       "      <td>True</td>\n",
       "      <td>False</td>\n",
       "      <td>False</td>\n",
       "      <td>False</td>\n",
       "      <td>False</td>\n",
       "    </tr>\n",
       "    <tr>\n",
       "      <th>lat</th>\n",
       "      <td>False</td>\n",
       "      <td>False</td>\n",
       "      <td>False</td>\n",
       "      <td>False</td>\n",
       "      <td>False</td>\n",
       "      <td>False</td>\n",
       "      <td>False</td>\n",
       "      <td>False</td>\n",
       "      <td>False</td>\n",
       "      <td>False</td>\n",
       "      <td>True</td>\n",
       "      <td>False</td>\n",
       "      <td>False</td>\n",
       "      <td>False</td>\n",
       "    </tr>\n",
       "    <tr>\n",
       "      <th>long</th>\n",
       "      <td>False</td>\n",
       "      <td>False</td>\n",
       "      <td>False</td>\n",
       "      <td>False</td>\n",
       "      <td>False</td>\n",
       "      <td>False</td>\n",
       "      <td>False</td>\n",
       "      <td>False</td>\n",
       "      <td>False</td>\n",
       "      <td>False</td>\n",
       "      <td>False</td>\n",
       "      <td>True</td>\n",
       "      <td>False</td>\n",
       "      <td>False</td>\n",
       "    </tr>\n",
       "    <tr>\n",
       "      <th>sqft_living15</th>\n",
       "      <td>False</td>\n",
       "      <td>False</td>\n",
       "      <td>False</td>\n",
       "      <td>True</td>\n",
       "      <td>False</td>\n",
       "      <td>False</td>\n",
       "      <td>False</td>\n",
       "      <td>False</td>\n",
       "      <td>False</td>\n",
       "      <td>False</td>\n",
       "      <td>False</td>\n",
       "      <td>False</td>\n",
       "      <td>True</td>\n",
       "      <td>False</td>\n",
       "    </tr>\n",
       "    <tr>\n",
       "      <th>sqft_lot15</th>\n",
       "      <td>False</td>\n",
       "      <td>False</td>\n",
       "      <td>False</td>\n",
       "      <td>False</td>\n",
       "      <td>False</td>\n",
       "      <td>False</td>\n",
       "      <td>False</td>\n",
       "      <td>False</td>\n",
       "      <td>False</td>\n",
       "      <td>False</td>\n",
       "      <td>False</td>\n",
       "      <td>False</td>\n",
       "      <td>False</td>\n",
       "      <td>True</td>\n",
       "    </tr>\n",
       "  </tbody>\n",
       "</table>\n",
       "</div>"
      ],
      "text/plain": [
       "                date  bedrooms  bathrooms  sqft_living  sqft_lot  grade  \\\n",
       "date            True     False      False        False     False  False   \n",
       "bedrooms       False      True      False        False     False  False   \n",
       "bathrooms      False     False       True         True     False  False   \n",
       "sqft_living    False     False       True         True     False   True   \n",
       "sqft_lot       False     False      False        False      True  False   \n",
       "grade          False     False      False         True     False   True   \n",
       "sqft_above     False     False      False         True     False   True   \n",
       "sqft_basement  False     False      False        False     False  False   \n",
       "yr_built       False     False      False        False     False  False   \n",
       "yr_renovated   False     False      False        False     False  False   \n",
       "lat            False     False      False        False     False  False   \n",
       "long           False     False      False        False     False  False   \n",
       "sqft_living15  False     False      False         True     False  False   \n",
       "sqft_lot15     False     False      False        False     False  False   \n",
       "\n",
       "               sqft_above  sqft_basement  yr_built  yr_renovated    lat  \\\n",
       "date                False          False     False         False  False   \n",
       "bedrooms            False          False     False         False  False   \n",
       "bathrooms           False          False     False         False  False   \n",
       "sqft_living          True          False     False         False  False   \n",
       "sqft_lot            False          False     False         False  False   \n",
       "grade                True          False     False         False  False   \n",
       "sqft_above           True          False     False         False  False   \n",
       "sqft_basement       False           True     False         False  False   \n",
       "yr_built            False          False      True         False  False   \n",
       "yr_renovated        False          False     False          True  False   \n",
       "lat                 False          False     False         False   True   \n",
       "long                False          False     False         False  False   \n",
       "sqft_living15       False          False     False         False  False   \n",
       "sqft_lot15          False          False     False         False  False   \n",
       "\n",
       "                long  sqft_living15  sqft_lot15  \n",
       "date           False          False       False  \n",
       "bedrooms       False          False       False  \n",
       "bathrooms      False          False       False  \n",
       "sqft_living    False           True       False  \n",
       "sqft_lot       False          False       False  \n",
       "grade          False          False       False  \n",
       "sqft_above     False          False       False  \n",
       "sqft_basement  False          False       False  \n",
       "yr_built       False          False       False  \n",
       "yr_renovated   False          False       False  \n",
       "lat            False          False       False  \n",
       "long            True          False       False  \n",
       "sqft_living15  False           True       False  \n",
       "sqft_lot15     False          False        True  "
      ]
     },
     "execution_count": 21,
     "metadata": {},
     "output_type": "execute_result"
    }
   ],
   "source": [
    "corr_df = abs(df.drop('price', axis=1).corr()) > 0.75\n",
    "corr_df"
   ]
  },
  {
   "cell_type": "markdown",
   "metadata": {},
   "source": [
    "Then I iterated through each column of this new dataframe and checked if any column had two or more values as True. If they did have two or more True values I saved them to a list 'multicolinear_columns'."
   ]
  },
  {
   "cell_type": "code",
   "execution_count": 22,
   "metadata": {
    "scrolled": true
   },
   "outputs": [
    {
     "name": "stdout",
     "output_type": "stream",
     "text": [
      "['bathrooms', 'sqft_living', 'grade', 'sqft_above', 'sqft_living15']\n"
     ]
    }
   ],
   "source": [
    "# Create list to store the names of multicolinear collumns\n",
    "multicolinear_columns = []\n",
    "\n",
    "# Iterate through 'corr_df' and add column names to multicolinear_columns \n",
    "# if those columns have two or more values equal to True\n",
    "for column in corr_df.columns:\n",
    "    if corr_df[column].sum() > 1:\n",
    "        multicolinear_columns.append(column)\n",
    "        \n",
    "# Print multicolinear_columns\n",
    "print(multicolinear_columns)   "
   ]
  },
  {
   "cell_type": "markdown",
   "metadata": {},
   "source": [
    "I made graphs to see which columns were most suitible for multiple linear regression before I droped any. I also saw which of the multicolinear columns was the most correlated with price."
   ]
  },
  {
   "cell_type": "code",
   "execution_count": 23,
   "metadata": {},
   "outputs": [
    {
     "data": {
      "image/png": "[encoded data removed]",
      "text/plain": [
       "<Figure size 792x360 with 2 Axes>"
      ]
     },
     "metadata": {
      "needs_background": "light"
     },
     "output_type": "display_data"
    },
    {
     "data": {
      "image/png": "[encoded data removed]",
      "text/plain": [
       "<Figure size 792x360 with 2 Axes>"
      ]
     },
     "metadata": {
      "needs_background": "light"
     },
     "output_type": "display_data"
    },
    {
     "data": {
      "image/png": "[encoded data removed]",
      "text/plain": [
       "<Figure size 792x360 with 2 Axes>"
      ]
     },
     "metadata": {
      "needs_background": "light"
     },
     "output_type": "display_data"
    },
    {
     "data": {
      "image/png": "[encoded data removed]",
      "text/plain": [
       "<Figure size 792x360 with 2 Axes>"
      ]
     },
     "metadata": {
      "needs_background": "light"
     },
     "output_type": "display_data"
    },
    {
     "data": {
      "image/png": "[encoded data removed]",
      "text/plain": [
       "<Figure size 792x360 with 2 Axes>"
      ]
     },
     "metadata": {
      "needs_background": "light"
     },
     "output_type": "display_data"
    }
   ],
   "source": [
    "# Iterate through multicolinear columns\n",
    "for column in multicolinear_columns:\n",
    "    \n",
    "    # Create figure for each column\n",
    "    fig = plt.figure(figsize=(11,5))\n",
    "    \n",
    "    # Create axes for subplots\n",
    "    ax1 = fig.add_subplot(1,2,1)\n",
    "    ax2 = fig.add_subplot(1,2,2)\n",
    "    \n",
    "    \n",
    "    # add titles and labels to subplots\n",
    "    ax1.set_title(column + ' normality')\n",
    "    ax1.set_xlabel(column)\n",
    "    ax1.set_ylabel('frequency')\n",
    "    ax2.set_title(column + ' homoscedasticity')\n",
    "    ax2.set_xlabel(column)\n",
    "    ax2.set_ylabel('price')\n",
    "    \n",
    "    # plot histograms on each subplot\n",
    "    ax1.hist(df[column])\n",
    "    ax2.scatter(df[column], df['price'])\n",
    "    \n",
    "    plt.show()"
   ]
  },
  {
   "cell_type": "markdown",
   "metadata": {},
   "source": [
    "They all seemed suitable for multiple linear regression so I simply droped all the multicolinear columns except for the one most correlated to price."
   ]
  },
  {
   "cell_type": "code",
   "execution_count": 24,
   "metadata": {
    "scrolled": false
   },
   "outputs": [
    {
     "data": {
      "text/plain": [
       "bathrooms        0.525906\n",
       "sqft_living      0.701917\n",
       "grade            0.667951\n",
       "sqft_above       0.605368\n",
       "sqft_living15    0.585241\n",
       "price            1.000000\n",
       "Name: price, dtype: float64"
      ]
     },
     "execution_count": 24,
     "metadata": {},
     "output_type": "execute_result"
    }
   ],
   "source": [
    "# Create a corr dataframe that includes price and view the price column\n",
    "df[multicolinear_columns + ['price']].corr()['price']"
   ]
  },
  {
   "cell_type": "markdown",
   "metadata": {},
   "source": [
    "sqft_living was most closely correlated to price"
   ]
  },
  {
   "cell_type": "code",
   "execution_count": 25,
   "metadata": {
    "scrolled": true
   },
   "outputs": [],
   "source": [
    "# Drop all multicolinear columns from df, Except for sqft_living.\n",
    "multicolinear_columns.remove('sqft_living')\n",
    "df = df.drop(multicolinear_columns, axis=1)"
   ]
  },
  {
   "cell_type": "markdown",
   "metadata": {},
   "source": [
    "##### Normalize and scale the data"
   ]
  },
  {
   "cell_type": "markdown",
   "metadata": {},
   "source": [
    "First I made a list of the columns with continous numerical data. I named this list 'continous_columns'."
   ]
  },
  {
   "cell_type": "code",
   "execution_count": 26,
   "metadata": {
    "scrolled": true
   },
   "outputs": [
    {
     "name": "stdout",
     "output_type": "stream",
     "text": [
      "['date', 'price', 'bedrooms', 'sqft_living', 'sqft_lot', 'sqft_basement', 'yr_built', 'yr_renovated', 'lat', 'long', 'sqft_lot15']\n"
     ]
    }
   ],
   "source": [
    "continous_columns = [column for column in df.columns if (df[column].dtype == int) | (df[column].dtype == 'int64') | (df[column].dtype == 'float64')]\n",
    "print(continous_columns)"
   ]
  },
  {
   "cell_type": "markdown",
   "metadata": {},
   "source": [
    "The next thing to do was to make sure the data resembles a normal distribution. I did this by iterating through my list, 'continous_columns', and ploting a histogram of each column. At the same time I ploted a histogram of that same column log-transformed. I do this to see both histograms side by side and see which one most closely followed a normal distribution. Note that in order to log-transform some columns I had to change there zero values to a very small number such as 0.001. Also Before I took the log of the 'long' column I needed to remove its negative values. Changing the column with the absolute value function worked as long as all the values are negative."
   ]
  },
  {
   "cell_type": "code",
   "execution_count": 27,
   "metadata": {},
   "outputs": [
    {
     "data": {
      "text/plain": [
       "count    21597.000000\n",
       "mean      -122.213982\n",
       "std          0.140724\n",
       "min       -122.519000\n",
       "25%       -122.328000\n",
       "50%       -122.231000\n",
       "75%       -122.125000\n",
       "max       -121.315000\n",
       "Name: long, dtype: float64"
      ]
     },
     "execution_count": 27,
     "metadata": {},
     "output_type": "execute_result"
    }
   ],
   "source": [
    "# Make sure all values were negative\n",
    "df['long'].describe()"
   ]
  },
  {
   "cell_type": "code",
   "execution_count": 28,
   "metadata": {},
   "outputs": [],
   "source": [
    "# Change the 'long' column to its absolute value\n",
    "df['long'] = abs(df['long'])"
   ]
  },
  {
   "cell_type": "code",
   "execution_count": 29,
   "metadata": {},
   "outputs": [
    {
     "data": {
      "image/png": "[encoded data removed]",
      "text/plain": [
       "<Figure size 792x360 with 2 Axes>"
      ]
     },
     "metadata": {
      "needs_background": "light"
     },
     "output_type": "display_data"
    },
    {
     "data": {
      "image/png": "[encoded data removed]",
      "text/plain": [
       "<Figure size 792x360 with 2 Axes>"
      ]
     },
     "metadata": {
      "needs_background": "light"
     },
     "output_type": "display_data"
    },
    {
     "data": {
      "image/png": "[encoded data removed]",
      "text/plain": [
       "<Figure size 792x360 with 2 Axes>"
      ]
     },
     "metadata": {
      "needs_background": "light"
     },
     "output_type": "display_data"
    },
    {
     "data": {
      "image/png": "[encoded data removed]",
      "text/plain": [
       "<Figure size 792x360 with 2 Axes>"
      ]
     },
     "metadata": {
      "needs_background": "light"
     },
     "output_type": "display_data"
    },
    {
     "data": {
      "image/png": "[encoded data removed]",
      "text/plain": [
       "<Figure size 792x360 with 2 Axes>"
      ]
     },
     "metadata": {
      "needs_background": "light"
     },
     "output_type": "display_data"
    },
    {
     "data": {
      "image/png": "[encoded data removed]",
      "text/plain": [
       "<Figure size 792x360 with 2 Axes>"
      ]
     },
     "metadata": {
      "needs_background": "light"
     },
     "output_type": "display_data"
    },
    {
     "data": {
      "image/png": "[encoded data removed]",
      "text/plain": [
       "<Figure size 792x360 with 2 Axes>"
      ]
     },
     "metadata": {
      "needs_background": "light"
     },
     "output_type": "display_data"
    },
    {
     "data": {
      "image/png": "[encoded data removed]",
      "text/plain": [
       "<Figure size 792x360 with 2 Axes>"
      ]
     },
     "metadata": {
      "needs_background": "light"
     },
     "output_type": "display_data"
    },
    {
     "data": {
      "image/png": "[encoded data removed]",
      "text/plain": [
       "<Figure size 792x360 with 2 Axes>"
      ]
     },
     "metadata": {
      "needs_background": "light"
     },
     "output_type": "display_data"
    },
    {
     "data": {
      "image/png": "[encoded data removed]",
      "text/plain": [
       "<Figure size 792x360 with 2 Axes>"
      ]
     },
     "metadata": {
      "needs_background": "light"
     },
     "output_type": "display_data"
    },
    {
     "data": {
      "image/png": "[encoded data removed]",
      "text/plain": [
       "<Figure size 792x360 with 2 Axes>"
      ]
     },
     "metadata": {
      "needs_background": "light"
     },
     "output_type": "display_data"
    }
   ],
   "source": [
    "# Iterate through each continous column name\n",
    "for column in continous_columns:\n",
    "    \n",
    "    # Replace zeros with 0.001\n",
    "    \n",
    "    df[column].replace(0, 0.001, inplace = True)\n",
    "    df[column].replace(0.0, 0.001, inplace = True)\n",
    "    \n",
    "    # have a log-transformed version of the column saved to a variable 'column_log_transformed'\n",
    "    column_log_transformed = np.log(df[column])\n",
    "    \n",
    "    # Create figure for each column\n",
    "    fig = plt.figure(figsize=(11,5))\n",
    "    \n",
    "    # Create axes for subplots\n",
    "    ax1 = fig.add_subplot(1,2,1)\n",
    "    ax2 = fig.add_subplot(1,2,2)\n",
    "    \n",
    "    \n",
    "    # add titles and labels to subplots\n",
    "    ax1.set_title(column)\n",
    "    ax1.set_xlabel(column)\n",
    "    ax1.set_ylabel('frequency')\n",
    "    ax2.set_title('log transformed ' + column)\n",
    "    ax2.set_xlabel('log transformed ' + column)\n",
    "    ax2.set_ylabel('frequency')\n",
    "    \n",
    "    # plot histograms on each subplot\n",
    "    ax1.hist(df[column])\n",
    "    ax2.hist(column_log_transformed)\n",
    "    \n",
    "    \n",
    "    plt.show()"
   ]
  },
  {
   "cell_type": "markdown",
   "metadata": {},
   "source": [
    "It seemed that price, sqft_living, sqft_lot, and sqft_lot15 needed to be log transformed."
   ]
  },
  {
   "cell_type": "code",
   "execution_count": 30,
   "metadata": {},
   "outputs": [],
   "source": [
    "# Log transform the specified columns\n",
    "for column in ['price', 'sqft_living', 'sqft_lot', 'sqft_lot15']:\n",
    "    df[column] = np.log(df[column])"
   ]
  },
  {
   "cell_type": "markdown",
   "metadata": {},
   "source": [
    "Next I scaled the data by using the min/max technique. To do this I  First wrote a function which applies the min max formula. Then I used a for loop to iterate through all of the columns with continous data and then ran the min max function on each column and saved each column to its new scaled form."
   ]
  },
  {
   "cell_type": "code",
   "execution_count": 31,
   "metadata": {},
   "outputs": [],
   "source": [
    "def min_Max(df, col): ### Function for min-max scaling\n",
    "    \n",
    "    # Numerator of the formula\n",
    "    num = df[column] - df[column].min()\n",
    "    \n",
    "    # Denominator of the formula\n",
    "    den = df[column].max() - df[column].min()\n",
    "    \n",
    "    # Return finished column\n",
    "    return num/den"
   ]
  },
  {
   "cell_type": "code",
   "execution_count": 32,
   "metadata": {
    "scrolled": true
   },
   "outputs": [
    {
     "data": {
      "image/png": "[encoded data removed]",
      "text/plain": [
       "<Figure size 432x288 with 1 Axes>"
      ]
     },
     "metadata": {
      "needs_background": "light"
     },
     "output_type": "display_data"
    }
   ],
   "source": [
    "# Iterate through continous columns\n",
    "for column in continous_columns:\n",
    "    \n",
    "    df[column] = min_Max(df, column)\n",
    "    \n",
    "# Check if it worked\n",
    "plt.hist(df['price'])\n",
    "plt.title('histogram of min-maxed price')\n",
    "plt.xlabel('price')\n",
    "plt.ylabel('frequency')\n",
    "plt.show()"
   ]
  },
  {
   "cell_type": "markdown",
   "metadata": {},
   "source": [
    "##### One hot encoding"
   ]
  },
  {
   "cell_type": "markdown",
   "metadata": {},
   "source": [
    "First I viewed a list of every column's data-type to see which ones were categorical"
   ]
  },
  {
   "cell_type": "code",
   "execution_count": 33,
   "metadata": {
    "scrolled": false
   },
   "outputs": [
    {
     "data": {
      "text/plain": [
       "date              float64\n",
       "price             float64\n",
       "bedrooms          float64\n",
       "sqft_living       float64\n",
       "sqft_lot          float64\n",
       "floors           category\n",
       "waterfront       category\n",
       "view             category\n",
       "condition        category\n",
       "sqft_basement     float64\n",
       "yr_built          float64\n",
       "yr_renovated      float64\n",
       "zipcode          category\n",
       "lat               float64\n",
       "long              float64\n",
       "sqft_lot15        float64\n",
       "dtype: object"
      ]
     },
     "execution_count": 33,
     "metadata": {},
     "output_type": "execute_result"
    }
   ],
   "source": [
    "df.dtypes"
   ]
  },
  {
   "cell_type": "markdown",
   "metadata": {},
   "source": [
    "I then created dummy columns for each categorical column by collecting the categorical columns into a list and then iterating through the list with a loop using pd.get_dummies on every column."
   ]
  },
  {
   "cell_type": "code",
   "execution_count": 34,
   "metadata": {
    "scrolled": true
   },
   "outputs": [],
   "source": [
    "to_be_dummies = ['floors', 'waterfront', 'view', 'condition', 'zipcode']\n",
    "\n",
    "for column in to_be_dummies:\n",
    "    df = pd.get_dummies(df, columns = [column], drop_first = True, prefix = column)"
   ]
  },
  {
   "cell_type": "code",
   "execution_count": 35,
   "metadata": {},
   "outputs": [
    {
     "data": {
      "text/plain": [
       "Index(['date', 'price', 'bedrooms', 'sqft_living', 'sqft_lot', 'sqft_basement',\n",
       "       'yr_built', 'yr_renovated', 'lat', 'long', 'sqft_lot15', 'floors_1.5',\n",
       "       'floors_2.0', 'floors_2.5', 'floors_3.0', 'floors_3.5',\n",
       "       'waterfront_1.0', 'view_1.0', 'view_2.0', 'view_3.0', 'view_4.0',\n",
       "       'condition_2', 'condition_3', 'condition_4', 'condition_5',\n",
       "       'zipcode_98002', 'zipcode_98003', 'zipcode_98004', 'zipcode_98005',\n",
       "       'zipcode_98006', 'zipcode_98007', 'zipcode_98008', 'zipcode_98010',\n",
       "       'zipcode_98011', 'zipcode_98014', 'zipcode_98019', 'zipcode_98022',\n",
       "       'zipcode_98023', 'zipcode_98024', 'zipcode_98027', 'zipcode_98028',\n",
       "       'zipcode_98029', 'zipcode_98030', 'zipcode_98031', 'zipcode_98032',\n",
       "       'zipcode_98033', 'zipcode_98034', 'zipcode_98038', 'zipcode_98039',\n",
       "       'zipcode_98040', 'zipcode_98042', 'zipcode_98045', 'zipcode_98052',\n",
       "       'zipcode_98053', 'zipcode_98055', 'zipcode_98056', 'zipcode_98058',\n",
       "       'zipcode_98059', 'zipcode_98065', 'zipcode_98070', 'zipcode_98072',\n",
       "       'zipcode_98074', 'zipcode_98075', 'zipcode_98077', 'zipcode_98092',\n",
       "       'zipcode_98102', 'zipcode_98103', 'zipcode_98105', 'zipcode_98106',\n",
       "       'zipcode_98107', 'zipcode_98108', 'zipcode_98109', 'zipcode_98112',\n",
       "       'zipcode_98115', 'zipcode_98116', 'zipcode_98117', 'zipcode_98118',\n",
       "       'zipcode_98119', 'zipcode_98122', 'zipcode_98125', 'zipcode_98126',\n",
       "       'zipcode_98133', 'zipcode_98136', 'zipcode_98144', 'zipcode_98146',\n",
       "       'zipcode_98148', 'zipcode_98155', 'zipcode_98166', 'zipcode_98168',\n",
       "       'zipcode_98177', 'zipcode_98178', 'zipcode_98188', 'zipcode_98198',\n",
       "       'zipcode_98199'],\n",
       "      dtype='object')"
      ]
     },
     "execution_count": 35,
     "metadata": {},
     "output_type": "execute_result"
    }
   ],
   "source": [
    "df.columns"
   ]
  },
  {
   "cell_type": "markdown",
   "metadata": {},
   "source": [
    "This concludes the scrub step"
   ]
  },
  {
   "cell_type": "markdown",
   "metadata": {},
   "source": [
    "# Explore"
   ]
  },
  {
   "cell_type": "markdown",
   "metadata": {},
   "source": [
    "The goal of the 'Explore' step is to examine the data in depth. To do this I will Examine the descriptive statistics of this data set and I will check the normality and homoscedasticity of every column. I made three questions to anser in the explore step. \n",
    "* What columns have good normality\n",
    "* What remaing columns have good homoscedasticity\n",
    "* How many outliers are there compared to the length of the dataframe\n"
   ]
  },
  {
   "cell_type": "code",
   "execution_count": 36,
   "metadata": {
    "scrolled": false
   },
   "outputs": [
    {
     "data": {
      "text/html": [
       "<div>\n",
       "<style scoped>\n",
       "    .dataframe tbody tr th:only-of-type {\n",
       "        vertical-align: middle;\n",
       "    }\n",
       "\n",
       "    .dataframe tbody tr th {\n",
       "        vertical-align: top;\n",
       "    }\n",
       "\n",
       "    .dataframe thead th {\n",
       "        text-align: right;\n",
       "    }\n",
       "</style>\n",
       "<table border=\"1\" class=\"dataframe\">\n",
       "  <thead>\n",
       "    <tr style=\"text-align: right;\">\n",
       "      <th></th>\n",
       "      <th>date</th>\n",
       "      <th>price</th>\n",
       "      <th>bedrooms</th>\n",
       "      <th>sqft_living</th>\n",
       "      <th>sqft_lot</th>\n",
       "      <th>sqft_basement</th>\n",
       "      <th>yr_built</th>\n",
       "      <th>yr_renovated</th>\n",
       "      <th>lat</th>\n",
       "      <th>long</th>\n",
       "      <th>sqft_lot15</th>\n",
       "    </tr>\n",
       "  </thead>\n",
       "  <tbody>\n",
       "    <tr>\n",
       "      <th>count</th>\n",
       "      <td>21597.000000</td>\n",
       "      <td>21597.000000</td>\n",
       "      <td>21597.000000</td>\n",
       "      <td>21597.000000</td>\n",
       "      <td>21597.000000</td>\n",
       "      <td>21597.000000</td>\n",
       "      <td>21597.000000</td>\n",
       "      <td>21597.000000</td>\n",
       "      <td>21597.000000</td>\n",
       "      <td>21597.000000</td>\n",
       "      <td>21597.000000</td>\n",
       "    </tr>\n",
       "    <tr>\n",
       "      <th>mean</th>\n",
       "      <td>0.462003</td>\n",
       "      <td>0.388424</td>\n",
       "      <td>0.074162</td>\n",
       "      <td>0.454795</td>\n",
       "      <td>0.339313</td>\n",
       "      <td>0.059277</td>\n",
       "      <td>0.617388</td>\n",
       "      <td>0.034123</td>\n",
       "      <td>0.650142</td>\n",
       "      <td>0.746663</td>\n",
       "      <td>0.344799</td>\n",
       "    </tr>\n",
       "    <tr>\n",
       "      <th>std</th>\n",
       "      <td>0.289897</td>\n",
       "      <td>0.114661</td>\n",
       "      <td>0.028947</td>\n",
       "      <td>0.117834</td>\n",
       "      <td>0.111875</td>\n",
       "      <td>0.091249</td>\n",
       "      <td>0.255437</td>\n",
       "      <td>0.180664</td>\n",
       "      <td>0.222860</td>\n",
       "      <td>0.116880</td>\n",
       "      <td>0.112877</td>\n",
       "    </tr>\n",
       "    <tr>\n",
       "      <th>min</th>\n",
       "      <td>0.000000</td>\n",
       "      <td>0.000000</td>\n",
       "      <td>0.000000</td>\n",
       "      <td>0.000000</td>\n",
       "      <td>0.000000</td>\n",
       "      <td>0.000000</td>\n",
       "      <td>0.000000</td>\n",
       "      <td>0.000000</td>\n",
       "      <td>0.000000</td>\n",
       "      <td>0.000000</td>\n",
       "      <td>0.000000</td>\n",
       "    </tr>\n",
       "    <tr>\n",
       "      <th>25%</th>\n",
       "      <td>0.207692</td>\n",
       "      <td>0.308746</td>\n",
       "      <td>0.062500</td>\n",
       "      <td>0.375546</td>\n",
       "      <td>0.281688</td>\n",
       "      <td>0.000000</td>\n",
       "      <td>0.443478</td>\n",
       "      <td>0.000000</td>\n",
       "      <td>0.506997</td>\n",
       "      <td>0.672757</td>\n",
       "      <td>0.285936</td>\n",
       "    </tr>\n",
       "    <tr>\n",
       "      <th>50%</th>\n",
       "      <td>0.428205</td>\n",
       "      <td>0.381628</td>\n",
       "      <td>0.062500</td>\n",
       "      <td>0.455945</td>\n",
       "      <td>0.332922</td>\n",
       "      <td>0.000000</td>\n",
       "      <td>0.652174</td>\n",
       "      <td>0.000000</td>\n",
       "      <td>0.668972</td>\n",
       "      <td>0.760797</td>\n",
       "      <td>0.341712</td>\n",
       "    </tr>\n",
       "    <tr>\n",
       "      <th>75%</th>\n",
       "      <td>0.746154</td>\n",
       "      <td>0.460022</td>\n",
       "      <td>0.093750</td>\n",
       "      <td>0.536222</td>\n",
       "      <td>0.374881</td>\n",
       "      <td>0.114108</td>\n",
       "      <td>0.843478</td>\n",
       "      <td>0.000000</td>\n",
       "      <td>0.839794</td>\n",
       "      <td>0.841362</td>\n",
       "      <td>0.380616</td>\n",
       "    </tr>\n",
       "    <tr>\n",
       "      <th>max</th>\n",
       "      <td>1.000000</td>\n",
       "      <td>1.000000</td>\n",
       "      <td>1.000000</td>\n",
       "      <td>1.000000</td>\n",
       "      <td>1.000000</td>\n",
       "      <td>1.000000</td>\n",
       "      <td>1.000000</td>\n",
       "      <td>1.000000</td>\n",
       "      <td>1.000000</td>\n",
       "      <td>1.000000</td>\n",
       "      <td>1.000000</td>\n",
       "    </tr>\n",
       "  </tbody>\n",
       "</table>\n",
       "</div>"
      ],
      "text/plain": [
       "               date         price      bedrooms   sqft_living      sqft_lot  \\\n",
       "count  21597.000000  21597.000000  21597.000000  21597.000000  21597.000000   \n",
       "mean       0.462003      0.388424      0.074162      0.454795      0.339313   \n",
       "std        0.289897      0.114661      0.028947      0.117834      0.111875   \n",
       "min        0.000000      0.000000      0.000000      0.000000      0.000000   \n",
       "25%        0.207692      0.308746      0.062500      0.375546      0.281688   \n",
       "50%        0.428205      0.381628      0.062500      0.455945      0.332922   \n",
       "75%        0.746154      0.460022      0.093750      0.536222      0.374881   \n",
       "max        1.000000      1.000000      1.000000      1.000000      1.000000   \n",
       "\n",
       "       sqft_basement      yr_built  yr_renovated           lat          long  \\\n",
       "count   21597.000000  21597.000000  21597.000000  21597.000000  21597.000000   \n",
       "mean        0.059277      0.617388      0.034123      0.650142      0.746663   \n",
       "std         0.091249      0.255437      0.180664      0.222860      0.116880   \n",
       "min         0.000000      0.000000      0.000000      0.000000      0.000000   \n",
       "25%         0.000000      0.443478      0.000000      0.506997      0.672757   \n",
       "50%         0.000000      0.652174      0.000000      0.668972      0.760797   \n",
       "75%         0.114108      0.843478      0.000000      0.839794      0.841362   \n",
       "max         1.000000      1.000000      1.000000      1.000000      1.000000   \n",
       "\n",
       "         sqft_lot15  \n",
       "count  21597.000000  \n",
       "mean       0.344799  \n",
       "std        0.112877  \n",
       "min        0.000000  \n",
       "25%        0.285936  \n",
       "50%        0.341712  \n",
       "75%        0.380616  \n",
       "max        1.000000  "
      ]
     },
     "execution_count": 36,
     "metadata": {},
     "output_type": "execute_result"
    }
   ],
   "source": [
    "# Examine descriptive statistics of the data set\n",
    "df[continous_columns].describe()"
   ]
  },
  {
   "cell_type": "markdown",
   "metadata": {},
   "source": [
    "Next I will made kernel density plots for each of the continous columns in order to check there distribution."
   ]
  },
  {
   "cell_type": "code",
   "execution_count": 37,
   "metadata": {},
   "outputs": [
    {
     "name": "stderr",
     "output_type": "stream",
     "text": [
      "C:\\Users\\zasz\\Anaconda3\\envs\\learn-env\\lib\\site-packages\\scipy\\stats\\stats.py:1713: FutureWarning: Using a non-tuple sequence for multidimensional indexing is deprecated; use `arr[tuple(seq)]` instead of `arr[seq]`. In the future this will be interpreted as an array index, `arr[np.array(seq)]`, which will result either in an error or a different result.\n",
      "  return np.add.reduce(sorted[indexer] * weights, axis=axis) / sumval\n"
     ]
    },
    {
     "data": {
      "image/png": "[encoded data removed]",
      "text/plain": [
       "<Figure size 432x288 with 1 Axes>"
      ]
     },
     "metadata": {
      "needs_background": "light"
     },
     "output_type": "display_data"
    },
    {
     "data": {
      "image/png": "[encoded data removed]",
      "text/plain": [
       "<Figure size 432x288 with 1 Axes>"
      ]
     },
     "metadata": {
      "needs_background": "light"
     },
     "output_type": "display_data"
    },
    {
     "data": {
      "image/png": "[encoded data removed]",
      "text/plain": [
       "<Figure size 432x288 with 1 Axes>"
      ]
     },
     "metadata": {
      "needs_background": "light"
     },
     "output_type": "display_data"
    },
    {
     "data": {
      "image/png": "[encoded data removed]",
      "text/plain": [
       "<Figure size 432x288 with 1 Axes>"
      ]
     },
     "metadata": {
      "needs_background": "light"
     },
     "output_type": "display_data"
    },
    {
     "data": {
      "image/png": "[encoded data removed]",
      "text/plain": [
       "<Figure size 432x288 with 1 Axes>"
      ]
     },
     "metadata": {
      "needs_background": "light"
     },
     "output_type": "display_data"
    },
    {
     "data": {
      "image/png": "[encoded data removed]",
      "text/plain": [
       "<Figure size 432x288 with 1 Axes>"
      ]
     },
     "metadata": {
      "needs_background": "light"
     },
     "output_type": "display_data"
    },
    {
     "data": {
      "image/png": "[encoded data removed]",
      "text/plain": [
       "<Figure size 432x288 with 1 Axes>"
      ]
     },
     "metadata": {
      "needs_background": "light"
     },
     "output_type": "display_data"
    },
    {
     "data": {
      "image/png": "[encoded data removed]",
      "text/plain": [
       "<Figure size 432x288 with 1 Axes>"
      ]
     },
     "metadata": {
      "needs_background": "light"
     },
     "output_type": "display_data"
    },
    {
     "data": {
      "image/png": "[encoded data removed]",
      "text/plain": [
       "<Figure size 432x288 with 1 Axes>"
      ]
     },
     "metadata": {
      "needs_background": "light"
     },
     "output_type": "display_data"
    },
    {
     "data": {
      "image/png": "[encoded data removed]",
      "text/plain": [
       "<Figure size 432x288 with 1 Axes>"
      ]
     },
     "metadata": {
      "needs_background": "light"
     },
     "output_type": "display_data"
    },
    {
     "data": {
      "image/png": "[encoded data removed]",
      "text/plain": [
       "<Figure size 432x288 with 1 Axes>"
      ]
     },
     "metadata": {
      "needs_background": "light"
     },
     "output_type": "display_data"
    }
   ],
   "source": [
    "for column in continous_columns:\n",
    "    sns.distplot(df[column])\n",
    "    plt.title(column + ' normality')\n",
    "    plt.xlabel(column + ' value')\n",
    "    plt.ylabel('frequency')\n",
    "    plt.show()"
   ]
  },
  {
   "cell_type": "markdown",
   "metadata": {},
   "source": [
    "Sqft_living and price are the two columns with good normality"
   ]
  },
  {
   "cell_type": "markdown",
   "metadata": {},
   "source": [
    "Some columns did not follow a normal distribution and needed to be removed. Those columns included:\n",
    "* date\n",
    "* bedrooms\n",
    "* sqft_lot\n",
    "* sqft_basement\n",
    "* yr_built\n",
    "* yr_renovated\n",
    "* lat\n",
    "* long\n",
    "* sqft_lot15"
   ]
  },
  {
   "cell_type": "code",
   "execution_count": 38,
   "metadata": {},
   "outputs": [],
   "source": [
    "# List of columns to drop\n",
    "columns_to_remove = ['date', 'sqft_lot', 'bedrooms', 'sqft_basement', 'yr_built', 'yr_renovated', 'lat', 'long', 'sqft_lot15']"
   ]
  },
  {
   "cell_type": "code",
   "execution_count": 39,
   "metadata": {},
   "outputs": [],
   "source": [
    "# Drop columns\n",
    "df = df.drop(columns_to_remove, axis=1)"
   ]
  },
  {
   "cell_type": "code",
   "execution_count": 40,
   "metadata": {
    "scrolled": false
   },
   "outputs": [
    {
     "name": "stdout",
     "output_type": "stream",
     "text": [
      "['price', 'sqft_living']\n"
     ]
    }
   ],
   "source": [
    "# Remake continous columns\n",
    "continous_columns = [column for column in df.columns if (df[column].dtype == int) | (df[column].dtype == 'int64') | (df[column].dtype == 'float64')]\n",
    "print(continous_columns)"
   ]
  },
  {
   "cell_type": "markdown",
   "metadata": {},
   "source": [
    "Here I checked for homoscedasticity of sqft_living, the only continous column other than price."
   ]
  },
  {
   "cell_type": "code",
   "execution_count": 41,
   "metadata": {
    "scrolled": true
   },
   "outputs": [
    {
     "data": {
      "image/png": "[encoded data removed]",
      "text/plain": [
       "<Figure size 432x288 with 1 Axes>"
      ]
     },
     "metadata": {
      "needs_background": "light"
     },
     "output_type": "display_data"
    }
   ],
   "source": [
    "plt.scatter(df['sqft_living'], df['price'], label = 'Houses')\n",
    "plt.title('sqft_living homoscedasticity')\n",
    "plt.xlabel('sqft_living')\n",
    "plt.ylabel('price')\n",
    "plt.legend()\n",
    "plt.show()"
   ]
  },
  {
   "cell_type": "markdown",
   "metadata": {},
   "source": [
    "Sqft_living had good homoscedasticity"
   ]
  },
  {
   "cell_type": "markdown",
   "metadata": {},
   "source": [
    "Next I removed outliers. To do this I simply iterated through the list 'continous_columns' and removed entire rows that have any value that is more than three standard deviations away from the mean."
   ]
  },
  {
   "cell_type": "code",
   "execution_count": 42,
   "metadata": {
    "scrolled": false
   },
   "outputs": [
    {
     "name": "stdout",
     "output_type": "stream",
     "text": [
      "21597\n",
      "21380\n"
     ]
    }
   ],
   "source": [
    "# Print how many rows are in the dataframe, 'df', before removing outliers\n",
    "print(len(df))\n",
    "\n",
    "# Iterate through continous columns\n",
    "for column in continous_columns:\n",
    "    \n",
    "    # Save the dataframe 'df' so that it only contains values within three standard deviations of the mean\n",
    "    df = df[df[column] > (df[column].mean() - 3 * df[column].std())]\n",
    "    df = df[df[column] < (df[column].mean() + 3 * df[column].std())]\n",
    "\n",
    "# Print how many rows are in the dataframe, 'df', after removing outliers\n",
    "print(len(df))"
   ]
  },
  {
   "cell_type": "markdown",
   "metadata": {},
   "source": [
    "To answer the previously asked questions.\n",
    "* The sqft_living and price columns have good normality\n",
    "* The sqft_living column, the only predictor column remaining, has good homoscedasticity\n",
    "* There are 217 outliers and the length of the dataframe including outliers is 2157"
   ]
  },
  {
   "cell_type": "markdown",
   "metadata": {},
   "source": [
    "This concludes the 'explore' step"
   ]
  },
  {
   "cell_type": "markdown",
   "metadata": {},
   "source": [
    "# Model"
   ]
  },
  {
   "cell_type": "markdown",
   "metadata": {},
   "source": [
    "The purpose of the model step is to create a model for making predictions based on the data. All the other steps led up to this one. I broke this step into three parts: Recursive feature elimination, modeling, and holdout validation."
   ]
  },
  {
   "cell_type": "markdown",
   "metadata": {},
   "source": [
    "##### Recursive feature selection"
   ]
  },
  {
   "cell_type": "code",
   "execution_count": 43,
   "metadata": {
    "scrolled": true
   },
   "outputs": [
    {
     "data": {
      "text/plain": [
       "85"
      ]
     },
     "execution_count": 43,
     "metadata": {},
     "output_type": "execute_result"
    }
   ],
   "source": [
    "len(df.columns)"
   ]
  },
  {
   "cell_type": "markdown",
   "metadata": {},
   "source": [
    "Here is a function for calculateing r-squared and adjusted r-squared. The parameters are the target variable ('y'), the predicted values ('y_hat') and the number of predictors (n_predictors)."
   ]
  },
  {
   "cell_type": "code",
   "execution_count": 44,
   "metadata": {},
   "outputs": [],
   "source": [
    "def r_sqr(y, y_hat, n_predictors):\n",
    "    \n",
    "    # r_2\n",
    "    num = sum((y-y_hat)**2)\n",
    "    den = sum((y - np.mean(y))**2)\n",
    "    r_2 = 1 - num/den\n",
    "    \n",
    "    # adj_r_2\n",
    "    num = (1 - r_2) * (len(y)-1)\n",
    "    den = len(y) - 1 - n_predictors\n",
    "    adj_r_2 = 1 - num/den\n",
    "    \n",
    "    return r_2, adj_r_2"
   ]
  },
  {
   "cell_type": "markdown",
   "metadata": {},
   "source": [
    "To perform recursive feature selection I imported RFE and LinearRegression from sklearn. I Then used LinearRegression() as the RFE's estimator and fit the RFE object to the predictors and to the target. I created a loop so that I could try RFE's with diffrent numbers of predictors. For each iteration of the loop I stored each RFE's r-squared and adjusted r-squared to a list called 'list_r_sqr'."
   ]
  },
  {
   "cell_type": "code",
   "execution_count": 45,
   "metadata": {},
   "outputs": [],
   "source": [
    "from sklearn.feature_selection import RFE\n",
    "from sklearn.linear_model import LinearRegression\n",
    "\n",
    "# The model is based on linear regression, X is all the predictors, y is the target\n",
    "estimator = LinearRegression()\n",
    "X = df.drop('price', axis=1)   \n",
    "y = df.price\n",
    "\n",
    "#  Make a list to record R-squared for each test model\n",
    "list_r_sqr = [] \n",
    "\n",
    "# Create a loop so that there will be multiple models created by the RFE. Count by five to reduce computtional cost.\n",
    "for i in range(1,len(df.columns),5):\n",
    "    \n",
    "     # Tell the rfe to use linear regression and use i amount of columns\n",
    "    rfe = RFE(estimator, i)\n",
    "    \n",
    "    # Fit the RFE to the pridictors and target\n",
    "    rfe.fit(X,y)\n",
    "    \n",
    "    # Store the results\n",
    "    results = rfe.support_ \n",
    "    \n",
    "    # obtain y_hat\n",
    "    y_hat = rfe.predict(X)\n",
    "    \n",
    "    # obtainr r-squared\n",
    "    r_2, adj_r_2 = r_sqr(y, y_hat, rfe.support_.sum())\n",
    "    \n",
    "    # add data to list\n",
    "    list_r_sqr.append([i, r_2, adj_r_2]) "
   ]
  },
  {
   "cell_type": "markdown",
   "metadata": {},
   "source": [
    "I then took the data in 'list_r_sqr' and seperated it into three lists so I could plot the r-squared and adjusted r-squared against the number of predictors."
   ]
  },
  {
   "cell_type": "code",
   "execution_count": 46,
   "metadata": {},
   "outputs": [],
   "source": [
    "# Gather the data in a form such that it may be graphed\n",
    "n_features = [] # number of features\n",
    "r_squareds = [] # r-squareds\n",
    "adj_r_squareds = [] # adjusted r-squareds\n",
    "for i in list_r_sqr:\n",
    "    n_features.append(i[0])\n",
    "    r_squareds.append(i[1])\n",
    "    adj_r_squareds.append(i[2])"
   ]
  },
  {
   "cell_type": "markdown",
   "metadata": {},
   "source": [
    "Next I created the graph."
   ]
  },
  {
   "cell_type": "code",
   "execution_count": 47,
   "metadata": {
    "scrolled": true
   },
   "outputs": [
    {
     "data": {
      "image/png": "[encoded data removed]",
      "text/plain": [
       "<Figure size 432x288 with 1 Axes>"
      ]
     },
     "metadata": {},
     "output_type": "display_data"
    }
   ],
   "source": [
    "# graph the r-squared against the amount of features used\n",
    "plt.style.use('ggplot')\n",
    "plt.plot(n_features, r_squareds, label='r2', color='red', alpha=0.5)\n",
    "plt.plot(n_features, adj_r_squareds, label='adj r2', color='blue', alpha=0.5)\n",
    "plt.legend()\n",
    "plt.title('r-squared vs number of predictors')\n",
    "plt.xlabel('number of predictors')\n",
    "plt.ylabel('value of r-squared or adjusted r-squared')\n",
    "plt.show()"
   ]
  },
  {
   "cell_type": "markdown",
   "metadata": {},
   "source": [
    "It appeared the more columns that I added the higher the r-squareds became."
   ]
  },
  {
   "cell_type": "markdown",
   "metadata": {},
   "source": [
    "Next I checked and saw if any columns were rejected by the RFE and stored those columns in a list 'cols_not_to_use'."
   ]
  },
  {
   "cell_type": "code",
   "execution_count": 48,
   "metadata": {},
   "outputs": [
    {
     "data": {
      "text/plain": [
       "[]"
      ]
     },
     "execution_count": 48,
     "metadata": {},
     "output_type": "execute_result"
    }
   ],
   "source": [
    "# Run the RFE with max n_features_to_select\n",
    "rfe = RFE(estimator, len(df.columns))\n",
    "rfe.fit(X,y)\n",
    "\n",
    "# Store the results from this RFE\n",
    "results = rfe.support_ # Contains info on what features where used\n",
    "cols_to_not_use = [] # list of columns to not be used\n",
    "\n",
    "# Create a loop that iterates through the results and updates the list cols_to_not_use\n",
    "for col, result in list(zip(X.columns, results)):\n",
    "    if result == False:\n",
    "        cols_to_use.append(col)\n",
    "        \n",
    "cols_to_not_use"
   ]
  },
  {
   "cell_type": "markdown",
   "metadata": {},
   "source": [
    "Zero columns were rejected."
   ]
  },
  {
   "cell_type": "markdown",
   "metadata": {},
   "source": [
    "Next I made a model using sklearn."
   ]
  },
  {
   "cell_type": "code",
   "execution_count": 49,
   "metadata": {
    "scrolled": true
   },
   "outputs": [
    {
     "name": "stdout",
     "output_type": "stream",
     "text": [
      "(0.8388189371052228, 0.8381755450536563)\n"
     ]
    }
   ],
   "source": [
    "# Create a model with the best columns\n",
    "model = LinearRegression()\n",
    "X = df.drop('price', axis=1)\n",
    "y = df.price\n",
    "\n",
    "# Run linear regression\n",
    "model.fit(X,y) \n",
    "y_hat = model.predict(X)\n",
    "\n",
    "# Print the r-squared and adjusted r-squared\n",
    "print(r_sqr(y, y_hat, len(df.columns))[:2])"
   ]
  },
  {
   "cell_type": "markdown",
   "metadata": {},
   "source": [
    "##### Modeling"
   ]
  },
  {
   "cell_type": "markdown",
   "metadata": {},
   "source": [
    "Then I got a summary of the model using statsmodels."
   ]
  },
  {
   "cell_type": "code",
   "execution_count": 50,
   "metadata": {},
   "outputs": [
    {
     "data": {
      "text/html": [
       "<table class=\"simpletable\">\n",
       "<caption>OLS Regression Results</caption>\n",
       "<tr>\n",
       "  <th>Dep. Variable:</th>          <td>price</td>      <th>  R-squared:         </th>  <td>   0.839</td> \n",
       "</tr>\n",
       "<tr>\n",
       "  <th>Model:</th>                   <td>OLS</td>       <th>  Adj. R-squared:    </th>  <td>   0.838</td> \n",
       "</tr>\n",
       "<tr>\n",
       "  <th>Method:</th>             <td>Least Squares</td>  <th>  F-statistic:       </th>  <td>   1319.</td> \n",
       "</tr>\n",
       "<tr>\n",
       "  <th>Date:</th>             <td>Mon, 29 Jul 2019</td> <th>  Prob (F-statistic):</th>   <td>  0.00</td>  \n",
       "</tr>\n",
       "<tr>\n",
       "  <th>Time:</th>                 <td>00:54:04</td>     <th>  Log-Likelihood:    </th>  <td>  36537.</td> \n",
       "</tr>\n",
       "<tr>\n",
       "  <th>No. Observations:</th>      <td> 21380</td>      <th>  AIC:               </th> <td>-7.290e+04</td>\n",
       "</tr>\n",
       "<tr>\n",
       "  <th>Df Residuals:</th>          <td> 21295</td>      <th>  BIC:               </th> <td>-7.223e+04</td>\n",
       "</tr>\n",
       "<tr>\n",
       "  <th>Df Model:</th>              <td>    84</td>      <th>                     </th>      <td> </td>    \n",
       "</tr>\n",
       "<tr>\n",
       "  <th>Covariance Type:</th>      <td>nonrobust</td>    <th>                     </th>      <td> </td>    \n",
       "</tr>\n",
       "</table>\n",
       "<table class=\"simpletable\">\n",
       "<tr>\n",
       "         <td></td>           <th>coef</th>     <th>std err</th>      <th>t</th>      <th>P>|t|</th>  <th>[0.025</th>    <th>0.975]</th>  \n",
       "</tr>\n",
       "<tr>\n",
       "  <th>const</th>          <td>   -0.0125</td> <td>    0.009</td> <td>   -1.387</td> <td> 0.165</td> <td>   -0.030</td> <td>    0.005</td>\n",
       "</tr>\n",
       "<tr>\n",
       "  <th>sqft_living</th>    <td>    0.5015</td> <td>    0.003</td> <td>  150.882</td> <td> 0.000</td> <td>    0.495</td> <td>    0.508</td>\n",
       "</tr>\n",
       "<tr>\n",
       "  <th>floors_1.5</th>     <td>    0.0032</td> <td>    0.001</td> <td>    2.762</td> <td> 0.006</td> <td>    0.001</td> <td>    0.005</td>\n",
       "</tr>\n",
       "<tr>\n",
       "  <th>floors_2.0</th>     <td>    0.0115</td> <td>    0.001</td> <td>   14.434</td> <td> 0.000</td> <td>    0.010</td> <td>    0.013</td>\n",
       "</tr>\n",
       "<tr>\n",
       "  <th>floors_2.5</th>     <td>    0.0163</td> <td>    0.004</td> <td>    4.373</td> <td> 0.000</td> <td>    0.009</td> <td>    0.024</td>\n",
       "</tr>\n",
       "<tr>\n",
       "  <th>floors_3.0</th>     <td>   -0.0061</td> <td>    0.002</td> <td>   -3.061</td> <td> 0.002</td> <td>   -0.010</td> <td>   -0.002</td>\n",
       "</tr>\n",
       "<tr>\n",
       "  <th>floors_3.5</th>     <td>   -0.0083</td> <td>    0.018</td> <td>   -0.461</td> <td> 0.645</td> <td>   -0.044</td> <td>    0.027</td>\n",
       "</tr>\n",
       "<tr>\n",
       "  <th>waterfront_1.0</th> <td>    0.0846</td> <td>    0.005</td> <td>   16.532</td> <td> 0.000</td> <td>    0.075</td> <td>    0.095</td>\n",
       "</tr>\n",
       "<tr>\n",
       "  <th>view_1.0</th>       <td>    0.0324</td> <td>    0.003</td> <td>   12.883</td> <td> 0.000</td> <td>    0.028</td> <td>    0.037</td>\n",
       "</tr>\n",
       "<tr>\n",
       "  <th>view_2.0</th>       <td>    0.0347</td> <td>    0.002</td> <td>   22.755</td> <td> 0.000</td> <td>    0.032</td> <td>    0.038</td>\n",
       "</tr>\n",
       "<tr>\n",
       "  <th>view_3.0</th>       <td>    0.0563</td> <td>    0.002</td> <td>   27.003</td> <td> 0.000</td> <td>    0.052</td> <td>    0.060</td>\n",
       "</tr>\n",
       "<tr>\n",
       "  <th>view_4.0</th>       <td>    0.0884</td> <td>    0.003</td> <td>   26.893</td> <td> 0.000</td> <td>    0.082</td> <td>    0.095</td>\n",
       "</tr>\n",
       "<tr>\n",
       "  <th>condition_2</th>    <td>    0.0246</td> <td>    0.009</td> <td>    2.648</td> <td> 0.008</td> <td>    0.006</td> <td>    0.043</td>\n",
       "</tr>\n",
       "<tr>\n",
       "  <th>condition_3</th>    <td>    0.0516</td> <td>    0.009</td> <td>    5.964</td> <td> 0.000</td> <td>    0.035</td> <td>    0.069</td>\n",
       "</tr>\n",
       "<tr>\n",
       "  <th>condition_4</th>    <td>    0.0557</td> <td>    0.009</td> <td>    6.424</td> <td> 0.000</td> <td>    0.039</td> <td>    0.073</td>\n",
       "</tr>\n",
       "<tr>\n",
       "  <th>condition_5</th>    <td>    0.0662</td> <td>    0.009</td> <td>    7.599</td> <td> 0.000</td> <td>    0.049</td> <td>    0.083</td>\n",
       "</tr>\n",
       "<tr>\n",
       "  <th>zipcode_98002</th>  <td>   -0.0115</td> <td>    0.004</td> <td>   -2.946</td> <td> 0.003</td> <td>   -0.019</td> <td>   -0.004</td>\n",
       "</tr>\n",
       "<tr>\n",
       "  <th>zipcode_98003</th>  <td>    0.0079</td> <td>    0.003</td> <td>    2.265</td> <td> 0.023</td> <td>    0.001</td> <td>    0.015</td>\n",
       "</tr>\n",
       "<tr>\n",
       "  <th>zipcode_98004</th>  <td>    0.2640</td> <td>    0.003</td> <td>   75.822</td> <td> 0.000</td> <td>    0.257</td> <td>    0.271</td>\n",
       "</tr>\n",
       "<tr>\n",
       "  <th>zipcode_98005</th>  <td>    0.1857</td> <td>    0.004</td> <td>   44.975</td> <td> 0.000</td> <td>    0.178</td> <td>    0.194</td>\n",
       "</tr>\n",
       "<tr>\n",
       "  <th>zipcode_98006</th>  <td>    0.1607</td> <td>    0.003</td> <td>   52.184</td> <td> 0.000</td> <td>    0.155</td> <td>    0.167</td>\n",
       "</tr>\n",
       "<tr>\n",
       "  <th>zipcode_98007</th>  <td>    0.1536</td> <td>    0.004</td> <td>   35.186</td> <td> 0.000</td> <td>    0.145</td> <td>    0.162</td>\n",
       "</tr>\n",
       "<tr>\n",
       "  <th>zipcode_98008</th>  <td>    0.1455</td> <td>    0.004</td> <td>   41.341</td> <td> 0.000</td> <td>    0.139</td> <td>    0.152</td>\n",
       "</tr>\n",
       "<tr>\n",
       "  <th>zipcode_98010</th>  <td>    0.0649</td> <td>    0.005</td> <td>   13.019</td> <td> 0.000</td> <td>    0.055</td> <td>    0.075</td>\n",
       "</tr>\n",
       "<tr>\n",
       "  <th>zipcode_98011</th>  <td>    0.1024</td> <td>    0.004</td> <td>   26.212</td> <td> 0.000</td> <td>    0.095</td> <td>    0.110</td>\n",
       "</tr>\n",
       "<tr>\n",
       "  <th>zipcode_98014</th>  <td>    0.0838</td> <td>    0.005</td> <td>   18.151</td> <td> 0.000</td> <td>    0.075</td> <td>    0.093</td>\n",
       "</tr>\n",
       "<tr>\n",
       "  <th>zipcode_98019</th>  <td>    0.0734</td> <td>    0.004</td> <td>   18.625</td> <td> 0.000</td> <td>    0.066</td> <td>    0.081</td>\n",
       "</tr>\n",
       "<tr>\n",
       "  <th>zipcode_98022</th>  <td>    0.0196</td> <td>    0.004</td> <td>    5.263</td> <td> 0.000</td> <td>    0.012</td> <td>    0.027</td>\n",
       "</tr>\n",
       "<tr>\n",
       "  <th>zipcode_98023</th>  <td> -5.91e-05</td> <td>    0.003</td> <td>   -0.019</td> <td> 0.984</td> <td>   -0.006</td> <td>    0.006</td>\n",
       "</tr>\n",
       "<tr>\n",
       "  <th>zipcode_98024</th>  <td>    0.1178</td> <td>    0.005</td> <td>   21.707</td> <td> 0.000</td> <td>    0.107</td> <td>    0.128</td>\n",
       "</tr>\n",
       "<tr>\n",
       "  <th>zipcode_98027</th>  <td>    0.1247</td> <td>    0.003</td> <td>   39.233</td> <td> 0.000</td> <td>    0.118</td> <td>    0.131</td>\n",
       "</tr>\n",
       "<tr>\n",
       "  <th>zipcode_98028</th>  <td>    0.0929</td> <td>    0.003</td> <td>   26.644</td> <td> 0.000</td> <td>    0.086</td> <td>    0.100</td>\n",
       "</tr>\n",
       "<tr>\n",
       "  <th>zipcode_98029</th>  <td>    0.1405</td> <td>    0.003</td> <td>   41.470</td> <td> 0.000</td> <td>    0.134</td> <td>    0.147</td>\n",
       "</tr>\n",
       "<tr>\n",
       "  <th>zipcode_98030</th>  <td>    0.0111</td> <td>    0.004</td> <td>    3.103</td> <td> 0.002</td> <td>    0.004</td> <td>    0.018</td>\n",
       "</tr>\n",
       "<tr>\n",
       "  <th>zipcode_98031</th>  <td>    0.0165</td> <td>    0.004</td> <td>    4.697</td> <td> 0.000</td> <td>    0.010</td> <td>    0.023</td>\n",
       "</tr>\n",
       "<tr>\n",
       "  <th>zipcode_98032</th>  <td>   -0.0025</td> <td>    0.005</td> <td>   -0.539</td> <td> 0.590</td> <td>   -0.011</td> <td>    0.007</td>\n",
       "</tr>\n",
       "<tr>\n",
       "  <th>zipcode_98033</th>  <td>    0.1813</td> <td>    0.003</td> <td>   57.516</td> <td> 0.000</td> <td>    0.175</td> <td>    0.187</td>\n",
       "</tr>\n",
       "<tr>\n",
       "  <th>zipcode_98034</th>  <td>    0.1208</td> <td>    0.003</td> <td>   40.445</td> <td> 0.000</td> <td>    0.115</td> <td>    0.127</td>\n",
       "</tr>\n",
       "<tr>\n",
       "  <th>zipcode_98038</th>  <td>    0.0387</td> <td>    0.003</td> <td>   13.156</td> <td> 0.000</td> <td>    0.033</td> <td>    0.044</td>\n",
       "</tr>\n",
       "<tr>\n",
       "  <th>zipcode_98039</th>  <td>    0.3073</td> <td>    0.008</td> <td>   37.884</td> <td> 0.000</td> <td>    0.291</td> <td>    0.323</td>\n",
       "</tr>\n",
       "<tr>\n",
       "  <th>zipcode_98040</th>  <td>    0.2169</td> <td>    0.004</td> <td>   60.520</td> <td> 0.000</td> <td>    0.210</td> <td>    0.224</td>\n",
       "</tr>\n",
       "<tr>\n",
       "  <th>zipcode_98042</th>  <td>    0.0184</td> <td>    0.003</td> <td>    6.161</td> <td> 0.000</td> <td>    0.013</td> <td>    0.024</td>\n",
       "</tr>\n",
       "<tr>\n",
       "  <th>zipcode_98045</th>  <td>    0.0811</td> <td>    0.004</td> <td>   21.528</td> <td> 0.000</td> <td>    0.074</td> <td>    0.089</td>\n",
       "</tr>\n",
       "<tr>\n",
       "  <th>zipcode_98052</th>  <td>    0.1515</td> <td>    0.003</td> <td>   51.247</td> <td> 0.000</td> <td>    0.146</td> <td>    0.157</td>\n",
       "</tr>\n",
       "<tr>\n",
       "  <th>zipcode_98053</th>  <td>    0.1469</td> <td>    0.003</td> <td>   45.907</td> <td> 0.000</td> <td>    0.141</td> <td>    0.153</td>\n",
       "</tr>\n",
       "<tr>\n",
       "  <th>zipcode_98055</th>  <td>    0.0291</td> <td>    0.004</td> <td>    8.220</td> <td> 0.000</td> <td>    0.022</td> <td>    0.036</td>\n",
       "</tr>\n",
       "<tr>\n",
       "  <th>zipcode_98056</th>  <td>    0.0700</td> <td>    0.003</td> <td>   21.966</td> <td> 0.000</td> <td>    0.064</td> <td>    0.076</td>\n",
       "</tr>\n",
       "<tr>\n",
       "  <th>zipcode_98058</th>  <td>    0.0418</td> <td>    0.003</td> <td>   13.469</td> <td> 0.000</td> <td>    0.036</td> <td>    0.048</td>\n",
       "</tr>\n",
       "<tr>\n",
       "  <th>zipcode_98059</th>  <td>    0.0832</td> <td>    0.003</td> <td>   26.975</td> <td> 0.000</td> <td>    0.077</td> <td>    0.089</td>\n",
       "</tr>\n",
       "<tr>\n",
       "  <th>zipcode_98065</th>  <td>    0.0899</td> <td>    0.003</td> <td>   26.195</td> <td> 0.000</td> <td>    0.083</td> <td>    0.097</td>\n",
       "</tr>\n",
       "<tr>\n",
       "  <th>zipcode_98070</th>  <td>    0.0847</td> <td>    0.005</td> <td>   17.805</td> <td> 0.000</td> <td>    0.075</td> <td>    0.094</td>\n",
       "</tr>\n",
       "<tr>\n",
       "  <th>zipcode_98072</th>  <td>    0.1233</td> <td>    0.004</td> <td>   34.968</td> <td> 0.000</td> <td>    0.116</td> <td>    0.130</td>\n",
       "</tr>\n",
       "<tr>\n",
       "  <th>zipcode_98074</th>  <td>    0.1422</td> <td>    0.003</td> <td>   45.374</td> <td> 0.000</td> <td>    0.136</td> <td>    0.148</td>\n",
       "</tr>\n",
       "<tr>\n",
       "  <th>zipcode_98075</th>  <td>    0.1501</td> <td>    0.003</td> <td>   45.416</td> <td> 0.000</td> <td>    0.144</td> <td>    0.157</td>\n",
       "</tr>\n",
       "<tr>\n",
       "  <th>zipcode_98077</th>  <td>    0.1338</td> <td>    0.004</td> <td>   34.177</td> <td> 0.000</td> <td>    0.126</td> <td>    0.141</td>\n",
       "</tr>\n",
       "<tr>\n",
       "  <th>zipcode_98092</th>  <td>    0.0154</td> <td>    0.003</td> <td>    4.663</td> <td> 0.000</td> <td>    0.009</td> <td>    0.022</td>\n",
       "</tr>\n",
       "<tr>\n",
       "  <th>zipcode_98102</th>  <td>    0.2166</td> <td>    0.005</td> <td>   43.481</td> <td> 0.000</td> <td>    0.207</td> <td>    0.226</td>\n",
       "</tr>\n",
       "<tr>\n",
       "  <th>zipcode_98103</th>  <td>    0.1815</td> <td>    0.003</td> <td>   60.759</td> <td> 0.000</td> <td>    0.176</td> <td>    0.187</td>\n",
       "</tr>\n",
       "<tr>\n",
       "  <th>zipcode_98105</th>  <td>    0.2105</td> <td>    0.004</td> <td>   56.015</td> <td> 0.000</td> <td>    0.203</td> <td>    0.218</td>\n",
       "</tr>\n",
       "<tr>\n",
       "  <th>zipcode_98106</th>  <td>    0.0686</td> <td>    0.003</td> <td>   20.497</td> <td> 0.000</td> <td>    0.062</td> <td>    0.075</td>\n",
       "</tr>\n",
       "<tr>\n",
       "  <th>zipcode_98107</th>  <td>    0.1853</td> <td>    0.004</td> <td>   51.408</td> <td> 0.000</td> <td>    0.178</td> <td>    0.192</td>\n",
       "</tr>\n",
       "<tr>\n",
       "  <th>zipcode_98108</th>  <td>    0.0705</td> <td>    0.004</td> <td>   17.724</td> <td> 0.000</td> <td>    0.063</td> <td>    0.078</td>\n",
       "</tr>\n",
       "<tr>\n",
       "  <th>zipcode_98109</th>  <td>    0.2215</td> <td>    0.005</td> <td>   45.654</td> <td> 0.000</td> <td>    0.212</td> <td>    0.231</td>\n",
       "</tr>\n",
       "<tr>\n",
       "  <th>zipcode_98112</th>  <td>    0.2356</td> <td>    0.004</td> <td>   64.894</td> <td> 0.000</td> <td>    0.229</td> <td>    0.243</td>\n",
       "</tr>\n",
       "<tr>\n",
       "  <th>zipcode_98115</th>  <td>    0.1772</td> <td>    0.003</td> <td>   59.979</td> <td> 0.000</td> <td>    0.171</td> <td>    0.183</td>\n",
       "</tr>\n",
       "<tr>\n",
       "  <th>zipcode_98116</th>  <td>    0.1644</td> <td>    0.003</td> <td>   48.790</td> <td> 0.000</td> <td>    0.158</td> <td>    0.171</td>\n",
       "</tr>\n",
       "<tr>\n",
       "  <th>zipcode_98117</th>  <td>    0.1767</td> <td>    0.003</td> <td>   59.092</td> <td> 0.000</td> <td>    0.171</td> <td>    0.183</td>\n",
       "</tr>\n",
       "<tr>\n",
       "  <th>zipcode_98118</th>  <td>    0.0956</td> <td>    0.003</td> <td>   31.514</td> <td> 0.000</td> <td>    0.090</td> <td>    0.102</td>\n",
       "</tr>\n",
       "<tr>\n",
       "  <th>zipcode_98119</th>  <td>    0.2148</td> <td>    0.004</td> <td>   53.015</td> <td> 0.000</td> <td>    0.207</td> <td>    0.223</td>\n",
       "</tr>\n",
       "<tr>\n",
       "  <th>zipcode_98122</th>  <td>    0.1798</td> <td>    0.003</td> <td>   51.640</td> <td> 0.000</td> <td>    0.173</td> <td>    0.187</td>\n",
       "</tr>\n",
       "<tr>\n",
       "  <th>zipcode_98125</th>  <td>    0.1224</td> <td>    0.003</td> <td>   38.448</td> <td> 0.000</td> <td>    0.116</td> <td>    0.129</td>\n",
       "</tr>\n",
       "<tr>\n",
       "  <th>zipcode_98126</th>  <td>    0.1169</td> <td>    0.003</td> <td>   35.410</td> <td> 0.000</td> <td>    0.110</td> <td>    0.123</td>\n",
       "</tr>\n",
       "<tr>\n",
       "  <th>zipcode_98133</th>  <td>    0.1005</td> <td>    0.003</td> <td>   32.937</td> <td> 0.000</td> <td>    0.095</td> <td>    0.107</td>\n",
       "</tr>\n",
       "<tr>\n",
       "  <th>zipcode_98136</th>  <td>    0.1482</td> <td>    0.004</td> <td>   41.354</td> <td> 0.000</td> <td>    0.141</td> <td>    0.155</td>\n",
       "</tr>\n",
       "<tr>\n",
       "  <th>zipcode_98144</th>  <td>    0.1400</td> <td>    0.003</td> <td>   41.909</td> <td> 0.000</td> <td>    0.133</td> <td>    0.147</td>\n",
       "</tr>\n",
       "<tr>\n",
       "  <th>zipcode_98146</th>  <td>    0.0567</td> <td>    0.003</td> <td>   16.243</td> <td> 0.000</td> <td>    0.050</td> <td>    0.064</td>\n",
       "</tr>\n",
       "<tr>\n",
       "  <th>zipcode_98148</th>  <td>    0.0360</td> <td>    0.006</td> <td>    5.751</td> <td> 0.000</td> <td>    0.024</td> <td>    0.048</td>\n",
       "</tr>\n",
       "<tr>\n",
       "  <th>zipcode_98155</th>  <td>    0.0950</td> <td>    0.003</td> <td>   30.487</td> <td> 0.000</td> <td>    0.089</td> <td>    0.101</td>\n",
       "</tr>\n",
       "<tr>\n",
       "  <th>zipcode_98166</th>  <td>    0.0697</td> <td>    0.004</td> <td>   19.244</td> <td> 0.000</td> <td>    0.063</td> <td>    0.077</td>\n",
       "</tr>\n",
       "<tr>\n",
       "  <th>zipcode_98168</th>  <td>    0.0136</td> <td>    0.004</td> <td>    3.795</td> <td> 0.000</td> <td>    0.007</td> <td>    0.021</td>\n",
       "</tr>\n",
       "<tr>\n",
       "  <th>zipcode_98177</th>  <td>    0.1361</td> <td>    0.004</td> <td>   37.463</td> <td> 0.000</td> <td>    0.129</td> <td>    0.143</td>\n",
       "</tr>\n",
       "<tr>\n",
       "  <th>zipcode_98178</th>  <td>    0.0231</td> <td>    0.004</td> <td>    6.434</td> <td> 0.000</td> <td>    0.016</td> <td>    0.030</td>\n",
       "</tr>\n",
       "<tr>\n",
       "  <th>zipcode_98188</th>  <td>    0.0178</td> <td>    0.004</td> <td>    4.025</td> <td> 0.000</td> <td>    0.009</td> <td>    0.026</td>\n",
       "</tr>\n",
       "<tr>\n",
       "  <th>zipcode_98198</th>  <td>    0.0126</td> <td>    0.004</td> <td>    3.576</td> <td> 0.000</td> <td>    0.006</td> <td>    0.019</td>\n",
       "</tr>\n",
       "<tr>\n",
       "  <th>zipcode_98199</th>  <td>    0.1920</td> <td>    0.003</td> <td>   56.450</td> <td> 0.000</td> <td>    0.185</td> <td>    0.199</td>\n",
       "</tr>\n",
       "</table>\n",
       "<table class=\"simpletable\">\n",
       "<tr>\n",
       "  <th>Omnibus:</th>       <td>856.579</td> <th>  Durbin-Watson:     </th> <td>   2.005</td>\n",
       "</tr>\n",
       "<tr>\n",
       "  <th>Prob(Omnibus):</th> <td> 0.000</td>  <th>  Jarque-Bera (JB):  </th> <td>2748.772</td>\n",
       "</tr>\n",
       "<tr>\n",
       "  <th>Skew:</th>          <td> 0.030</td>  <th>  Prob(JB):          </th> <td>    0.00</td>\n",
       "</tr>\n",
       "<tr>\n",
       "  <th>Kurtosis:</th>      <td> 4.756</td>  <th>  Cond. No.          </th> <td>    93.2</td>\n",
       "</tr>\n",
       "</table><br/><br/>Warnings:<br/>[1] Standard Errors assume that the covariance matrix of the errors is correctly specified."
      ],
      "text/plain": [
       "<class 'statsmodels.iolib.summary.Summary'>\n",
       "\"\"\"\n",
       "                            OLS Regression Results                            \n",
       "==============================================================================\n",
       "Dep. Variable:                  price   R-squared:                       0.839\n",
       "Model:                            OLS   Adj. R-squared:                  0.838\n",
       "Method:                 Least Squares   F-statistic:                     1319.\n",
       "Date:                Mon, 29 Jul 2019   Prob (F-statistic):               0.00\n",
       "Time:                        00:54:04   Log-Likelihood:                 36537.\n",
       "No. Observations:               21380   AIC:                        -7.290e+04\n",
       "Df Residuals:                   21295   BIC:                        -7.223e+04\n",
       "Df Model:                          84                                         \n",
       "Covariance Type:            nonrobust                                         \n",
       "==================================================================================\n",
       "                     coef    std err          t      P>|t|      [0.025      0.975]\n",
       "----------------------------------------------------------------------------------\n",
       "const             -0.0125      0.009     -1.387      0.165      -0.030       0.005\n",
       "sqft_living        0.5015      0.003    150.882      0.000       0.495       0.508\n",
       "floors_1.5         0.0032      0.001      2.762      0.006       0.001       0.005\n",
       "floors_2.0         0.0115      0.001     14.434      0.000       0.010       0.013\n",
       "floors_2.5         0.0163      0.004      4.373      0.000       0.009       0.024\n",
       "floors_3.0        -0.0061      0.002     -3.061      0.002      -0.010      -0.002\n",
       "floors_3.5        -0.0083      0.018     -0.461      0.645      -0.044       0.027\n",
       "waterfront_1.0     0.0846      0.005     16.532      0.000       0.075       0.095\n",
       "view_1.0           0.0324      0.003     12.883      0.000       0.028       0.037\n",
       "view_2.0           0.0347      0.002     22.755      0.000       0.032       0.038\n",
       "view_3.0           0.0563      0.002     27.003      0.000       0.052       0.060\n",
       "view_4.0           0.0884      0.003     26.893      0.000       0.082       0.095\n",
       "condition_2        0.0246      0.009      2.648      0.008       0.006       0.043\n",
       "condition_3        0.0516      0.009      5.964      0.000       0.035       0.069\n",
       "condition_4        0.0557      0.009      6.424      0.000       0.039       0.073\n",
       "condition_5        0.0662      0.009      7.599      0.000       0.049       0.083\n",
       "zipcode_98002     -0.0115      0.004     -2.946      0.003      -0.019      -0.004\n",
       "zipcode_98003      0.0079      0.003      2.265      0.023       0.001       0.015\n",
       "zipcode_98004      0.2640      0.003     75.822      0.000       0.257       0.271\n",
       "zipcode_98005      0.1857      0.004     44.975      0.000       0.178       0.194\n",
       "zipcode_98006      0.1607      0.003     52.184      0.000       0.155       0.167\n",
       "zipcode_98007      0.1536      0.004     35.186      0.000       0.145       0.162\n",
       "zipcode_98008      0.1455      0.004     41.341      0.000       0.139       0.152\n",
       "zipcode_98010      0.0649      0.005     13.019      0.000       0.055       0.075\n",
       "zipcode_98011      0.1024      0.004     26.212      0.000       0.095       0.110\n",
       "zipcode_98014      0.0838      0.005     18.151      0.000       0.075       0.093\n",
       "zipcode_98019      0.0734      0.004     18.625      0.000       0.066       0.081\n",
       "zipcode_98022      0.0196      0.004      5.263      0.000       0.012       0.027\n",
       "zipcode_98023   -5.91e-05      0.003     -0.019      0.984      -0.006       0.006\n",
       "zipcode_98024      0.1178      0.005     21.707      0.000       0.107       0.128\n",
       "zipcode_98027      0.1247      0.003     39.233      0.000       0.118       0.131\n",
       "zipcode_98028      0.0929      0.003     26.644      0.000       0.086       0.100\n",
       "zipcode_98029      0.1405      0.003     41.470      0.000       0.134       0.147\n",
       "zipcode_98030      0.0111      0.004      3.103      0.002       0.004       0.018\n",
       "zipcode_98031      0.0165      0.004      4.697      0.000       0.010       0.023\n",
       "zipcode_98032     -0.0025      0.005     -0.539      0.590      -0.011       0.007\n",
       "zipcode_98033      0.1813      0.003     57.516      0.000       0.175       0.187\n",
       "zipcode_98034      0.1208      0.003     40.445      0.000       0.115       0.127\n",
       "zipcode_98038      0.0387      0.003     13.156      0.000       0.033       0.044\n",
       "zipcode_98039      0.3073      0.008     37.884      0.000       0.291       0.323\n",
       "zipcode_98040      0.2169      0.004     60.520      0.000       0.210       0.224\n",
       "zipcode_98042      0.0184      0.003      6.161      0.000       0.013       0.024\n",
       "zipcode_98045      0.0811      0.004     21.528      0.000       0.074       0.089\n",
       "zipcode_98052      0.1515      0.003     51.247      0.000       0.146       0.157\n",
       "zipcode_98053      0.1469      0.003     45.907      0.000       0.141       0.153\n",
       "zipcode_98055      0.0291      0.004      8.220      0.000       0.022       0.036\n",
       "zipcode_98056      0.0700      0.003     21.966      0.000       0.064       0.076\n",
       "zipcode_98058      0.0418      0.003     13.469      0.000       0.036       0.048\n",
       "zipcode_98059      0.0832      0.003     26.975      0.000       0.077       0.089\n",
       "zipcode_98065      0.0899      0.003     26.195      0.000       0.083       0.097\n",
       "zipcode_98070      0.0847      0.005     17.805      0.000       0.075       0.094\n",
       "zipcode_98072      0.1233      0.004     34.968      0.000       0.116       0.130\n",
       "zipcode_98074      0.1422      0.003     45.374      0.000       0.136       0.148\n",
       "zipcode_98075      0.1501      0.003     45.416      0.000       0.144       0.157\n",
       "zipcode_98077      0.1338      0.004     34.177      0.000       0.126       0.141\n",
       "zipcode_98092      0.0154      0.003      4.663      0.000       0.009       0.022\n",
       "zipcode_98102      0.2166      0.005     43.481      0.000       0.207       0.226\n",
       "zipcode_98103      0.1815      0.003     60.759      0.000       0.176       0.187\n",
       "zipcode_98105      0.2105      0.004     56.015      0.000       0.203       0.218\n",
       "zipcode_98106      0.0686      0.003     20.497      0.000       0.062       0.075\n",
       "zipcode_98107      0.1853      0.004     51.408      0.000       0.178       0.192\n",
       "zipcode_98108      0.0705      0.004     17.724      0.000       0.063       0.078\n",
       "zipcode_98109      0.2215      0.005     45.654      0.000       0.212       0.231\n",
       "zipcode_98112      0.2356      0.004     64.894      0.000       0.229       0.243\n",
       "zipcode_98115      0.1772      0.003     59.979      0.000       0.171       0.183\n",
       "zipcode_98116      0.1644      0.003     48.790      0.000       0.158       0.171\n",
       "zipcode_98117      0.1767      0.003     59.092      0.000       0.171       0.183\n",
       "zipcode_98118      0.0956      0.003     31.514      0.000       0.090       0.102\n",
       "zipcode_98119      0.2148      0.004     53.015      0.000       0.207       0.223\n",
       "zipcode_98122      0.1798      0.003     51.640      0.000       0.173       0.187\n",
       "zipcode_98125      0.1224      0.003     38.448      0.000       0.116       0.129\n",
       "zipcode_98126      0.1169      0.003     35.410      0.000       0.110       0.123\n",
       "zipcode_98133      0.1005      0.003     32.937      0.000       0.095       0.107\n",
       "zipcode_98136      0.1482      0.004     41.354      0.000       0.141       0.155\n",
       "zipcode_98144      0.1400      0.003     41.909      0.000       0.133       0.147\n",
       "zipcode_98146      0.0567      0.003     16.243      0.000       0.050       0.064\n",
       "zipcode_98148      0.0360      0.006      5.751      0.000       0.024       0.048\n",
       "zipcode_98155      0.0950      0.003     30.487      0.000       0.089       0.101\n",
       "zipcode_98166      0.0697      0.004     19.244      0.000       0.063       0.077\n",
       "zipcode_98168      0.0136      0.004      3.795      0.000       0.007       0.021\n",
       "zipcode_98177      0.1361      0.004     37.463      0.000       0.129       0.143\n",
       "zipcode_98178      0.0231      0.004      6.434      0.000       0.016       0.030\n",
       "zipcode_98188      0.0178      0.004      4.025      0.000       0.009       0.026\n",
       "zipcode_98198      0.0126      0.004      3.576      0.000       0.006       0.019\n",
       "zipcode_98199      0.1920      0.003     56.450      0.000       0.185       0.199\n",
       "==============================================================================\n",
       "Omnibus:                      856.579   Durbin-Watson:                   2.005\n",
       "Prob(Omnibus):                  0.000   Jarque-Bera (JB):             2748.772\n",
       "Skew:                           0.030   Prob(JB):                         0.00\n",
       "Kurtosis:                       4.756   Cond. No.                         93.2\n",
       "==============================================================================\n",
       "\n",
       "Warnings:\n",
       "[1] Standard Errors assume that the covariance matrix of the errors is correctly specified.\n",
       "\"\"\""
      ]
     },
     "execution_count": 50,
     "metadata": {},
     "output_type": "execute_result"
    }
   ],
   "source": [
    "import statsmodels.api as sm\n",
    "\n",
    "# Add constant\n",
    "sm_X = sm.add_constant(X)\n",
    "\n",
    "# fit model\n",
    "sm_model = sm.OLS(y, sm_X).fit()\n",
    "\n",
    "# Summary\n",
    "sm_model.summary()"
   ]
  },
  {
   "cell_type": "markdown",
   "metadata": {},
   "source": [
    "I found three predictors with a p-value greater than 0.05, so they were removed. I then got the summary on the new model.\n"
   ]
  },
  {
   "cell_type": "code",
   "execution_count": 51,
   "metadata": {},
   "outputs": [],
   "source": [
    "X = df.drop(['price', 'floors_3.5', 'zipcode_98023', 'zipcode_98032'], axis=1)"
   ]
  },
  {
   "cell_type": "code",
   "execution_count": 52,
   "metadata": {},
   "outputs": [
    {
     "data": {
      "text/html": [
       "<table class=\"simpletable\">\n",
       "<caption>OLS Regression Results</caption>\n",
       "<tr>\n",
       "  <th>Dep. Variable:</th>          <td>price</td>      <th>  R-squared:         </th>  <td>   0.839</td> \n",
       "</tr>\n",
       "<tr>\n",
       "  <th>Model:</th>                   <td>OLS</td>       <th>  Adj. R-squared:    </th>  <td>   0.838</td> \n",
       "</tr>\n",
       "<tr>\n",
       "  <th>Method:</th>             <td>Least Squares</td>  <th>  F-statistic:       </th>  <td>   1368.</td> \n",
       "</tr>\n",
       "<tr>\n",
       "  <th>Date:</th>             <td>Mon, 29 Jul 2019</td> <th>  Prob (F-statistic):</th>   <td>  0.00</td>  \n",
       "</tr>\n",
       "<tr>\n",
       "  <th>Time:</th>                 <td>00:54:04</td>     <th>  Log-Likelihood:    </th>  <td>  36537.</td> \n",
       "</tr>\n",
       "<tr>\n",
       "  <th>No. Observations:</th>      <td> 21380</td>      <th>  AIC:               </th> <td>-7.291e+04</td>\n",
       "</tr>\n",
       "<tr>\n",
       "  <th>Df Residuals:</th>          <td> 21298</td>      <th>  BIC:               </th> <td>-7.226e+04</td>\n",
       "</tr>\n",
       "<tr>\n",
       "  <th>Df Model:</th>              <td>    81</td>      <th>                     </th>      <td> </td>    \n",
       "</tr>\n",
       "<tr>\n",
       "  <th>Covariance Type:</th>      <td>nonrobust</td>    <th>                     </th>      <td> </td>    \n",
       "</tr>\n",
       "</table>\n",
       "<table class=\"simpletable\">\n",
       "<tr>\n",
       "         <td></td>           <th>coef</th>     <th>std err</th>      <th>t</th>      <th>P>|t|</th>  <th>[0.025</th>    <th>0.975]</th>  \n",
       "</tr>\n",
       "<tr>\n",
       "  <th>const</th>          <td>   -0.0128</td> <td>    0.009</td> <td>   -1.456</td> <td> 0.146</td> <td>   -0.030</td> <td>    0.004</td>\n",
       "</tr>\n",
       "<tr>\n",
       "  <th>sqft_living</th>    <td>    0.5015</td> <td>    0.003</td> <td>  150.954</td> <td> 0.000</td> <td>    0.495</td> <td>    0.508</td>\n",
       "</tr>\n",
       "<tr>\n",
       "  <th>floors_1.5</th>     <td>    0.0032</td> <td>    0.001</td> <td>    2.763</td> <td> 0.006</td> <td>    0.001</td> <td>    0.005</td>\n",
       "</tr>\n",
       "<tr>\n",
       "  <th>floors_2.0</th>     <td>    0.0116</td> <td>    0.001</td> <td>   14.459</td> <td> 0.000</td> <td>    0.010</td> <td>    0.013</td>\n",
       "</tr>\n",
       "<tr>\n",
       "  <th>floors_2.5</th>     <td>    0.0164</td> <td>    0.004</td> <td>    4.379</td> <td> 0.000</td> <td>    0.009</td> <td>    0.024</td>\n",
       "</tr>\n",
       "<tr>\n",
       "  <th>floors_3.0</th>     <td>   -0.0060</td> <td>    0.002</td> <td>   -3.052</td> <td> 0.002</td> <td>   -0.010</td> <td>   -0.002</td>\n",
       "</tr>\n",
       "<tr>\n",
       "  <th>waterfront_1.0</th> <td>    0.0846</td> <td>    0.005</td> <td>   16.536</td> <td> 0.000</td> <td>    0.075</td> <td>    0.095</td>\n",
       "</tr>\n",
       "<tr>\n",
       "  <th>view_1.0</th>       <td>    0.0325</td> <td>    0.003</td> <td>   12.886</td> <td> 0.000</td> <td>    0.028</td> <td>    0.037</td>\n",
       "</tr>\n",
       "<tr>\n",
       "  <th>view_2.0</th>       <td>    0.0346</td> <td>    0.002</td> <td>   22.751</td> <td> 0.000</td> <td>    0.032</td> <td>    0.038</td>\n",
       "</tr>\n",
       "<tr>\n",
       "  <th>view_3.0</th>       <td>    0.0563</td> <td>    0.002</td> <td>   27.007</td> <td> 0.000</td> <td>    0.052</td> <td>    0.060</td>\n",
       "</tr>\n",
       "<tr>\n",
       "  <th>view_4.0</th>       <td>    0.0884</td> <td>    0.003</td> <td>   26.893</td> <td> 0.000</td> <td>    0.082</td> <td>    0.095</td>\n",
       "</tr>\n",
       "<tr>\n",
       "  <th>condition_2</th>    <td>    0.0246</td> <td>    0.009</td> <td>    2.649</td> <td> 0.008</td> <td>    0.006</td> <td>    0.043</td>\n",
       "</tr>\n",
       "<tr>\n",
       "  <th>condition_3</th>    <td>    0.0516</td> <td>    0.009</td> <td>    5.963</td> <td> 0.000</td> <td>    0.035</td> <td>    0.069</td>\n",
       "</tr>\n",
       "<tr>\n",
       "  <th>condition_4</th>    <td>    0.0556</td> <td>    0.009</td> <td>    6.422</td> <td> 0.000</td> <td>    0.039</td> <td>    0.073</td>\n",
       "</tr>\n",
       "<tr>\n",
       "  <th>condition_5</th>    <td>    0.0662</td> <td>    0.009</td> <td>    7.598</td> <td> 0.000</td> <td>    0.049</td> <td>    0.083</td>\n",
       "</tr>\n",
       "<tr>\n",
       "  <th>zipcode_98002</th>  <td>   -0.0111</td> <td>    0.003</td> <td>   -3.243</td> <td> 0.001</td> <td>   -0.018</td> <td>   -0.004</td>\n",
       "</tr>\n",
       "<tr>\n",
       "  <th>zipcode_98003</th>  <td>    0.0083</td> <td>    0.003</td> <td>    2.778</td> <td> 0.005</td> <td>    0.002</td> <td>    0.014</td>\n",
       "</tr>\n",
       "<tr>\n",
       "  <th>zipcode_98004</th>  <td>    0.2643</td> <td>    0.003</td> <td>   89.523</td> <td> 0.000</td> <td>    0.259</td> <td>    0.270</td>\n",
       "</tr>\n",
       "<tr>\n",
       "  <th>zipcode_98005</th>  <td>    0.1860</td> <td>    0.004</td> <td>   50.389</td> <td> 0.000</td> <td>    0.179</td> <td>    0.193</td>\n",
       "</tr>\n",
       "<tr>\n",
       "  <th>zipcode_98006</th>  <td>    0.1610</td> <td>    0.002</td> <td>   65.276</td> <td> 0.000</td> <td>    0.156</td> <td>    0.166</td>\n",
       "</tr>\n",
       "<tr>\n",
       "  <th>zipcode_98007</th>  <td>    0.1540</td> <td>    0.004</td> <td>   38.899</td> <td> 0.000</td> <td>    0.146</td> <td>    0.162</td>\n",
       "</tr>\n",
       "<tr>\n",
       "  <th>zipcode_98008</th>  <td>    0.1458</td> <td>    0.003</td> <td>   48.677</td> <td> 0.000</td> <td>    0.140</td> <td>    0.152</td>\n",
       "</tr>\n",
       "<tr>\n",
       "  <th>zipcode_98010</th>  <td>    0.0652</td> <td>    0.005</td> <td>   14.078</td> <td> 0.000</td> <td>    0.056</td> <td>    0.074</td>\n",
       "</tr>\n",
       "<tr>\n",
       "  <th>zipcode_98011</th>  <td>    0.1027</td> <td>    0.003</td> <td>   29.790</td> <td> 0.000</td> <td>    0.096</td> <td>    0.109</td>\n",
       "</tr>\n",
       "<tr>\n",
       "  <th>zipcode_98014</th>  <td>    0.0841</td> <td>    0.004</td> <td>   19.859</td> <td> 0.000</td> <td>    0.076</td> <td>    0.092</td>\n",
       "</tr>\n",
       "<tr>\n",
       "  <th>zipcode_98019</th>  <td>    0.0737</td> <td>    0.003</td> <td>   21.116</td> <td> 0.000</td> <td>    0.067</td> <td>    0.081</td>\n",
       "</tr>\n",
       "<tr>\n",
       "  <th>zipcode_98022</th>  <td>    0.0199</td> <td>    0.003</td> <td>    6.160</td> <td> 0.000</td> <td>    0.014</td> <td>    0.026</td>\n",
       "</tr>\n",
       "<tr>\n",
       "  <th>zipcode_98024</th>  <td>    0.1182</td> <td>    0.005</td> <td>   23.136</td> <td> 0.000</td> <td>    0.108</td> <td>    0.128</td>\n",
       "</tr>\n",
       "<tr>\n",
       "  <th>zipcode_98027</th>  <td>    0.1250</td> <td>    0.003</td> <td>   48.172</td> <td> 0.000</td> <td>    0.120</td> <td>    0.130</td>\n",
       "</tr>\n",
       "<tr>\n",
       "  <th>zipcode_98028</th>  <td>    0.0933</td> <td>    0.003</td> <td>   31.456</td> <td> 0.000</td> <td>    0.087</td> <td>    0.099</td>\n",
       "</tr>\n",
       "<tr>\n",
       "  <th>zipcode_98029</th>  <td>    0.1408</td> <td>    0.003</td> <td>   49.333</td> <td> 0.000</td> <td>    0.135</td> <td>    0.146</td>\n",
       "</tr>\n",
       "<tr>\n",
       "  <th>zipcode_98030</th>  <td>    0.0115</td> <td>    0.003</td> <td>    3.720</td> <td> 0.000</td> <td>    0.005</td> <td>    0.018</td>\n",
       "</tr>\n",
       "<tr>\n",
       "  <th>zipcode_98031</th>  <td>    0.0169</td> <td>    0.003</td> <td>    5.618</td> <td> 0.000</td> <td>    0.011</td> <td>    0.023</td>\n",
       "</tr>\n",
       "<tr>\n",
       "  <th>zipcode_98033</th>  <td>    0.1816</td> <td>    0.003</td> <td>   70.936</td> <td> 0.000</td> <td>    0.177</td> <td>    0.187</td>\n",
       "</tr>\n",
       "<tr>\n",
       "  <th>zipcode_98034</th>  <td>    0.1211</td> <td>    0.002</td> <td>   51.470</td> <td> 0.000</td> <td>    0.116</td> <td>    0.126</td>\n",
       "</tr>\n",
       "<tr>\n",
       "  <th>zipcode_98038</th>  <td>    0.0391</td> <td>    0.002</td> <td>   16.930</td> <td> 0.000</td> <td>    0.035</td> <td>    0.044</td>\n",
       "</tr>\n",
       "<tr>\n",
       "  <th>zipcode_98039</th>  <td>    0.3077</td> <td>    0.008</td> <td>   38.952</td> <td> 0.000</td> <td>    0.292</td> <td>    0.323</td>\n",
       "</tr>\n",
       "<tr>\n",
       "  <th>zipcode_98040</th>  <td>    0.2172</td> <td>    0.003</td> <td>   70.720</td> <td> 0.000</td> <td>    0.211</td> <td>    0.223</td>\n",
       "</tr>\n",
       "<tr>\n",
       "  <th>zipcode_98042</th>  <td>    0.0187</td> <td>    0.002</td> <td>    7.964</td> <td> 0.000</td> <td>    0.014</td> <td>    0.023</td>\n",
       "</tr>\n",
       "<tr>\n",
       "  <th>zipcode_98045</th>  <td>    0.0815</td> <td>    0.003</td> <td>   24.738</td> <td> 0.000</td> <td>    0.075</td> <td>    0.088</td>\n",
       "</tr>\n",
       "<tr>\n",
       "  <th>zipcode_98052</th>  <td>    0.1518</td> <td>    0.002</td> <td>   65.555</td> <td> 0.000</td> <td>    0.147</td> <td>    0.156</td>\n",
       "</tr>\n",
       "<tr>\n",
       "  <th>zipcode_98053</th>  <td>    0.1472</td> <td>    0.003</td> <td>   56.101</td> <td> 0.000</td> <td>    0.142</td> <td>    0.152</td>\n",
       "</tr>\n",
       "<tr>\n",
       "  <th>zipcode_98055</th>  <td>    0.0295</td> <td>    0.003</td> <td>    9.720</td> <td> 0.000</td> <td>    0.024</td> <td>    0.035</td>\n",
       "</tr>\n",
       "<tr>\n",
       "  <th>zipcode_98056</th>  <td>    0.0703</td> <td>    0.003</td> <td>   27.019</td> <td> 0.000</td> <td>    0.065</td> <td>    0.075</td>\n",
       "</tr>\n",
       "<tr>\n",
       "  <th>zipcode_98058</th>  <td>    0.0421</td> <td>    0.002</td> <td>   16.861</td> <td> 0.000</td> <td>    0.037</td> <td>    0.047</td>\n",
       "</tr>\n",
       "<tr>\n",
       "  <th>zipcode_98059</th>  <td>    0.0835</td> <td>    0.002</td> <td>   33.698</td> <td> 0.000</td> <td>    0.079</td> <td>    0.088</td>\n",
       "</tr>\n",
       "<tr>\n",
       "  <th>zipcode_98065</th>  <td>    0.0902</td> <td>    0.003</td> <td>   31.058</td> <td> 0.000</td> <td>    0.084</td> <td>    0.096</td>\n",
       "</tr>\n",
       "<tr>\n",
       "  <th>zipcode_98070</th>  <td>    0.0851</td> <td>    0.004</td> <td>   19.393</td> <td> 0.000</td> <td>    0.076</td> <td>    0.094</td>\n",
       "</tr>\n",
       "<tr>\n",
       "  <th>zipcode_98072</th>  <td>    0.1236</td> <td>    0.003</td> <td>   41.087</td> <td> 0.000</td> <td>    0.118</td> <td>    0.130</td>\n",
       "</tr>\n",
       "<tr>\n",
       "  <th>zipcode_98074</th>  <td>    0.1426</td> <td>    0.003</td> <td>   56.046</td> <td> 0.000</td> <td>    0.138</td> <td>    0.148</td>\n",
       "</tr>\n",
       "<tr>\n",
       "  <th>zipcode_98075</th>  <td>    0.1504</td> <td>    0.003</td> <td>   54.713</td> <td> 0.000</td> <td>    0.145</td> <td>    0.156</td>\n",
       "</tr>\n",
       "<tr>\n",
       "  <th>zipcode_98077</th>  <td>    0.1341</td> <td>    0.003</td> <td>   38.800</td> <td> 0.000</td> <td>    0.127</td> <td>    0.141</td>\n",
       "</tr>\n",
       "<tr>\n",
       "  <th>zipcode_98092</th>  <td>    0.0157</td> <td>    0.003</td> <td>    5.734</td> <td> 0.000</td> <td>    0.010</td> <td>    0.021</td>\n",
       "</tr>\n",
       "<tr>\n",
       "  <th>zipcode_98102</th>  <td>    0.2169</td> <td>    0.005</td> <td>   46.805</td> <td> 0.000</td> <td>    0.208</td> <td>    0.226</td>\n",
       "</tr>\n",
       "<tr>\n",
       "  <th>zipcode_98103</th>  <td>    0.1818</td> <td>    0.002</td> <td>   77.160</td> <td> 0.000</td> <td>    0.177</td> <td>    0.186</td>\n",
       "</tr>\n",
       "<tr>\n",
       "  <th>zipcode_98105</th>  <td>    0.2108</td> <td>    0.003</td> <td>   64.308</td> <td> 0.000</td> <td>    0.204</td> <td>    0.217</td>\n",
       "</tr>\n",
       "<tr>\n",
       "  <th>zipcode_98106</th>  <td>    0.0690</td> <td>    0.003</td> <td>   24.603</td> <td> 0.000</td> <td>    0.063</td> <td>    0.074</td>\n",
       "</tr>\n",
       "<tr>\n",
       "  <th>zipcode_98107</th>  <td>    0.1856</td> <td>    0.003</td> <td>   59.810</td> <td> 0.000</td> <td>    0.180</td> <td>    0.192</td>\n",
       "</tr>\n",
       "<tr>\n",
       "  <th>zipcode_98108</th>  <td>    0.0709</td> <td>    0.004</td> <td>   20.066</td> <td> 0.000</td> <td>    0.064</td> <td>    0.078</td>\n",
       "</tr>\n",
       "<tr>\n",
       "  <th>zipcode_98109</th>  <td>    0.2218</td> <td>    0.004</td> <td>   49.378</td> <td> 0.000</td> <td>    0.213</td> <td>    0.231</td>\n",
       "</tr>\n",
       "<tr>\n",
       "  <th>zipcode_98112</th>  <td>    0.2360</td> <td>    0.003</td> <td>   75.253</td> <td> 0.000</td> <td>    0.230</td> <td>    0.242</td>\n",
       "</tr>\n",
       "<tr>\n",
       "  <th>zipcode_98115</th>  <td>    0.1775</td> <td>    0.002</td> <td>   76.719</td> <td> 0.000</td> <td>    0.173</td> <td>    0.182</td>\n",
       "</tr>\n",
       "<tr>\n",
       "  <th>zipcode_98116</th>  <td>    0.1647</td> <td>    0.003</td> <td>   58.284</td> <td> 0.000</td> <td>    0.159</td> <td>    0.170</td>\n",
       "</tr>\n",
       "<tr>\n",
       "  <th>zipcode_98117</th>  <td>    0.1770</td> <td>    0.002</td> <td>   75.030</td> <td> 0.000</td> <td>    0.172</td> <td>    0.182</td>\n",
       "</tr>\n",
       "<tr>\n",
       "  <th>zipcode_98118</th>  <td>    0.0959</td> <td>    0.002</td> <td>   39.699</td> <td> 0.000</td> <td>    0.091</td> <td>    0.101</td>\n",
       "</tr>\n",
       "<tr>\n",
       "  <th>zipcode_98119</th>  <td>    0.2151</td> <td>    0.004</td> <td>   59.521</td> <td> 0.000</td> <td>    0.208</td> <td>    0.222</td>\n",
       "</tr>\n",
       "<tr>\n",
       "  <th>zipcode_98122</th>  <td>    0.1801</td> <td>    0.003</td> <td>   60.773</td> <td> 0.000</td> <td>    0.174</td> <td>    0.186</td>\n",
       "</tr>\n",
       "<tr>\n",
       "  <th>zipcode_98125</th>  <td>    0.1228</td> <td>    0.003</td> <td>   47.207</td> <td> 0.000</td> <td>    0.118</td> <td>    0.128</td>\n",
       "</tr>\n",
       "<tr>\n",
       "  <th>zipcode_98126</th>  <td>    0.1172</td> <td>    0.003</td> <td>   42.707</td> <td> 0.000</td> <td>    0.112</td> <td>    0.123</td>\n",
       "</tr>\n",
       "<tr>\n",
       "  <th>zipcode_98133</th>  <td>    0.1009</td> <td>    0.002</td> <td>   41.390</td> <td> 0.000</td> <td>    0.096</td> <td>    0.106</td>\n",
       "</tr>\n",
       "<tr>\n",
       "  <th>zipcode_98136</th>  <td>    0.1486</td> <td>    0.003</td> <td>   48.251</td> <td> 0.000</td> <td>    0.143</td> <td>    0.155</td>\n",
       "</tr>\n",
       "<tr>\n",
       "  <th>zipcode_98144</th>  <td>    0.1403</td> <td>    0.003</td> <td>   50.212</td> <td> 0.000</td> <td>    0.135</td> <td>    0.146</td>\n",
       "</tr>\n",
       "<tr>\n",
       "  <th>zipcode_98146</th>  <td>    0.0571</td> <td>    0.003</td> <td>   19.209</td> <td> 0.000</td> <td>    0.051</td> <td>    0.063</td>\n",
       "</tr>\n",
       "<tr>\n",
       "  <th>zipcode_98148</th>  <td>    0.0364</td> <td>    0.006</td> <td>    6.072</td> <td> 0.000</td> <td>    0.025</td> <td>    0.048</td>\n",
       "</tr>\n",
       "<tr>\n",
       "  <th>zipcode_98155</th>  <td>    0.0953</td> <td>    0.003</td> <td>   37.896</td> <td> 0.000</td> <td>    0.090</td> <td>    0.100</td>\n",
       "</tr>\n",
       "<tr>\n",
       "  <th>zipcode_98166</th>  <td>    0.0700</td> <td>    0.003</td> <td>   22.471</td> <td> 0.000</td> <td>    0.064</td> <td>    0.076</td>\n",
       "</tr>\n",
       "<tr>\n",
       "  <th>zipcode_98168</th>  <td>    0.0139</td> <td>    0.003</td> <td>    4.534</td> <td> 0.000</td> <td>    0.008</td> <td>    0.020</td>\n",
       "</tr>\n",
       "<tr>\n",
       "  <th>zipcode_98177</th>  <td>    0.1364</td> <td>    0.003</td> <td>   43.571</td> <td> 0.000</td> <td>    0.130</td> <td>    0.143</td>\n",
       "</tr>\n",
       "<tr>\n",
       "  <th>zipcode_98178</th>  <td>    0.0234</td> <td>    0.003</td> <td>    7.606</td> <td> 0.000</td> <td>    0.017</td> <td>    0.029</td>\n",
       "</tr>\n",
       "<tr>\n",
       "  <th>zipcode_98188</th>  <td>    0.0181</td> <td>    0.004</td> <td>    4.510</td> <td> 0.000</td> <td>    0.010</td> <td>    0.026</td>\n",
       "</tr>\n",
       "<tr>\n",
       "  <th>zipcode_98198</th>  <td>    0.0129</td> <td>    0.003</td> <td>    4.311</td> <td> 0.000</td> <td>    0.007</td> <td>    0.019</td>\n",
       "</tr>\n",
       "<tr>\n",
       "  <th>zipcode_98199</th>  <td>    0.1923</td> <td>    0.003</td> <td>   67.180</td> <td> 0.000</td> <td>    0.187</td> <td>    0.198</td>\n",
       "</tr>\n",
       "</table>\n",
       "<table class=\"simpletable\">\n",
       "<tr>\n",
       "  <th>Omnibus:</th>       <td>856.726</td> <th>  Durbin-Watson:     </th> <td>   2.005</td>\n",
       "</tr>\n",
       "<tr>\n",
       "  <th>Prob(Omnibus):</th> <td> 0.000</td>  <th>  Jarque-Bera (JB):  </th> <td>2749.501</td>\n",
       "</tr>\n",
       "<tr>\n",
       "  <th>Skew:</th>          <td> 0.030</td>  <th>  Prob(JB):          </th> <td>    0.00</td>\n",
       "</tr>\n",
       "<tr>\n",
       "  <th>Kurtosis:</th>      <td> 4.756</td>  <th>  Cond. No.          </th> <td>    90.2</td>\n",
       "</tr>\n",
       "</table><br/><br/>Warnings:<br/>[1] Standard Errors assume that the covariance matrix of the errors is correctly specified."
      ],
      "text/plain": [
       "<class 'statsmodels.iolib.summary.Summary'>\n",
       "\"\"\"\n",
       "                            OLS Regression Results                            \n",
       "==============================================================================\n",
       "Dep. Variable:                  price   R-squared:                       0.839\n",
       "Model:                            OLS   Adj. R-squared:                  0.838\n",
       "Method:                 Least Squares   F-statistic:                     1368.\n",
       "Date:                Mon, 29 Jul 2019   Prob (F-statistic):               0.00\n",
       "Time:                        00:54:04   Log-Likelihood:                 36537.\n",
       "No. Observations:               21380   AIC:                        -7.291e+04\n",
       "Df Residuals:                   21298   BIC:                        -7.226e+04\n",
       "Df Model:                          81                                         \n",
       "Covariance Type:            nonrobust                                         \n",
       "==================================================================================\n",
       "                     coef    std err          t      P>|t|      [0.025      0.975]\n",
       "----------------------------------------------------------------------------------\n",
       "const             -0.0128      0.009     -1.456      0.146      -0.030       0.004\n",
       "sqft_living        0.5015      0.003    150.954      0.000       0.495       0.508\n",
       "floors_1.5         0.0032      0.001      2.763      0.006       0.001       0.005\n",
       "floors_2.0         0.0116      0.001     14.459      0.000       0.010       0.013\n",
       "floors_2.5         0.0164      0.004      4.379      0.000       0.009       0.024\n",
       "floors_3.0        -0.0060      0.002     -3.052      0.002      -0.010      -0.002\n",
       "waterfront_1.0     0.0846      0.005     16.536      0.000       0.075       0.095\n",
       "view_1.0           0.0325      0.003     12.886      0.000       0.028       0.037\n",
       "view_2.0           0.0346      0.002     22.751      0.000       0.032       0.038\n",
       "view_3.0           0.0563      0.002     27.007      0.000       0.052       0.060\n",
       "view_4.0           0.0884      0.003     26.893      0.000       0.082       0.095\n",
       "condition_2        0.0246      0.009      2.649      0.008       0.006       0.043\n",
       "condition_3        0.0516      0.009      5.963      0.000       0.035       0.069\n",
       "condition_4        0.0556      0.009      6.422      0.000       0.039       0.073\n",
       "condition_5        0.0662      0.009      7.598      0.000       0.049       0.083\n",
       "zipcode_98002     -0.0111      0.003     -3.243      0.001      -0.018      -0.004\n",
       "zipcode_98003      0.0083      0.003      2.778      0.005       0.002       0.014\n",
       "zipcode_98004      0.2643      0.003     89.523      0.000       0.259       0.270\n",
       "zipcode_98005      0.1860      0.004     50.389      0.000       0.179       0.193\n",
       "zipcode_98006      0.1610      0.002     65.276      0.000       0.156       0.166\n",
       "zipcode_98007      0.1540      0.004     38.899      0.000       0.146       0.162\n",
       "zipcode_98008      0.1458      0.003     48.677      0.000       0.140       0.152\n",
       "zipcode_98010      0.0652      0.005     14.078      0.000       0.056       0.074\n",
       "zipcode_98011      0.1027      0.003     29.790      0.000       0.096       0.109\n",
       "zipcode_98014      0.0841      0.004     19.859      0.000       0.076       0.092\n",
       "zipcode_98019      0.0737      0.003     21.116      0.000       0.067       0.081\n",
       "zipcode_98022      0.0199      0.003      6.160      0.000       0.014       0.026\n",
       "zipcode_98024      0.1182      0.005     23.136      0.000       0.108       0.128\n",
       "zipcode_98027      0.1250      0.003     48.172      0.000       0.120       0.130\n",
       "zipcode_98028      0.0933      0.003     31.456      0.000       0.087       0.099\n",
       "zipcode_98029      0.1408      0.003     49.333      0.000       0.135       0.146\n",
       "zipcode_98030      0.0115      0.003      3.720      0.000       0.005       0.018\n",
       "zipcode_98031      0.0169      0.003      5.618      0.000       0.011       0.023\n",
       "zipcode_98033      0.1816      0.003     70.936      0.000       0.177       0.187\n",
       "zipcode_98034      0.1211      0.002     51.470      0.000       0.116       0.126\n",
       "zipcode_98038      0.0391      0.002     16.930      0.000       0.035       0.044\n",
       "zipcode_98039      0.3077      0.008     38.952      0.000       0.292       0.323\n",
       "zipcode_98040      0.2172      0.003     70.720      0.000       0.211       0.223\n",
       "zipcode_98042      0.0187      0.002      7.964      0.000       0.014       0.023\n",
       "zipcode_98045      0.0815      0.003     24.738      0.000       0.075       0.088\n",
       "zipcode_98052      0.1518      0.002     65.555      0.000       0.147       0.156\n",
       "zipcode_98053      0.1472      0.003     56.101      0.000       0.142       0.152\n",
       "zipcode_98055      0.0295      0.003      9.720      0.000       0.024       0.035\n",
       "zipcode_98056      0.0703      0.003     27.019      0.000       0.065       0.075\n",
       "zipcode_98058      0.0421      0.002     16.861      0.000       0.037       0.047\n",
       "zipcode_98059      0.0835      0.002     33.698      0.000       0.079       0.088\n",
       "zipcode_98065      0.0902      0.003     31.058      0.000       0.084       0.096\n",
       "zipcode_98070      0.0851      0.004     19.393      0.000       0.076       0.094\n",
       "zipcode_98072      0.1236      0.003     41.087      0.000       0.118       0.130\n",
       "zipcode_98074      0.1426      0.003     56.046      0.000       0.138       0.148\n",
       "zipcode_98075      0.1504      0.003     54.713      0.000       0.145       0.156\n",
       "zipcode_98077      0.1341      0.003     38.800      0.000       0.127       0.141\n",
       "zipcode_98092      0.0157      0.003      5.734      0.000       0.010       0.021\n",
       "zipcode_98102      0.2169      0.005     46.805      0.000       0.208       0.226\n",
       "zipcode_98103      0.1818      0.002     77.160      0.000       0.177       0.186\n",
       "zipcode_98105      0.2108      0.003     64.308      0.000       0.204       0.217\n",
       "zipcode_98106      0.0690      0.003     24.603      0.000       0.063       0.074\n",
       "zipcode_98107      0.1856      0.003     59.810      0.000       0.180       0.192\n",
       "zipcode_98108      0.0709      0.004     20.066      0.000       0.064       0.078\n",
       "zipcode_98109      0.2218      0.004     49.378      0.000       0.213       0.231\n",
       "zipcode_98112      0.2360      0.003     75.253      0.000       0.230       0.242\n",
       "zipcode_98115      0.1775      0.002     76.719      0.000       0.173       0.182\n",
       "zipcode_98116      0.1647      0.003     58.284      0.000       0.159       0.170\n",
       "zipcode_98117      0.1770      0.002     75.030      0.000       0.172       0.182\n",
       "zipcode_98118      0.0959      0.002     39.699      0.000       0.091       0.101\n",
       "zipcode_98119      0.2151      0.004     59.521      0.000       0.208       0.222\n",
       "zipcode_98122      0.1801      0.003     60.773      0.000       0.174       0.186\n",
       "zipcode_98125      0.1228      0.003     47.207      0.000       0.118       0.128\n",
       "zipcode_98126      0.1172      0.003     42.707      0.000       0.112       0.123\n",
       "zipcode_98133      0.1009      0.002     41.390      0.000       0.096       0.106\n",
       "zipcode_98136      0.1486      0.003     48.251      0.000       0.143       0.155\n",
       "zipcode_98144      0.1403      0.003     50.212      0.000       0.135       0.146\n",
       "zipcode_98146      0.0571      0.003     19.209      0.000       0.051       0.063\n",
       "zipcode_98148      0.0364      0.006      6.072      0.000       0.025       0.048\n",
       "zipcode_98155      0.0953      0.003     37.896      0.000       0.090       0.100\n",
       "zipcode_98166      0.0700      0.003     22.471      0.000       0.064       0.076\n",
       "zipcode_98168      0.0139      0.003      4.534      0.000       0.008       0.020\n",
       "zipcode_98177      0.1364      0.003     43.571      0.000       0.130       0.143\n",
       "zipcode_98178      0.0234      0.003      7.606      0.000       0.017       0.029\n",
       "zipcode_98188      0.0181      0.004      4.510      0.000       0.010       0.026\n",
       "zipcode_98198      0.0129      0.003      4.311      0.000       0.007       0.019\n",
       "zipcode_98199      0.1923      0.003     67.180      0.000       0.187       0.198\n",
       "==============================================================================\n",
       "Omnibus:                      856.726   Durbin-Watson:                   2.005\n",
       "Prob(Omnibus):                  0.000   Jarque-Bera (JB):             2749.501\n",
       "Skew:                           0.030   Prob(JB):                         0.00\n",
       "Kurtosis:                       4.756   Cond. No.                         90.2\n",
       "==============================================================================\n",
       "\n",
       "Warnings:\n",
       "[1] Standard Errors assume that the covariance matrix of the errors is correctly specified.\n",
       "\"\"\""
      ]
     },
     "execution_count": 52,
     "metadata": {},
     "output_type": "execute_result"
    }
   ],
   "source": [
    "# Add constant\n",
    "sm_X = sm.add_constant(X)\n",
    "\n",
    "# fit model\n",
    "sm_model = sm.OLS(y, sm_X).fit()\n",
    "\n",
    "# Summary\n",
    "sm_model.summary()"
   ]
  },
  {
   "cell_type": "markdown",
   "metadata": {},
   "source": [
    "##### Holdout Validation"
   ]
  },
  {
   "cell_type": "markdown",
   "metadata": {},
   "source": [
    "First I created a train/test split"
   ]
  },
  {
   "cell_type": "code",
   "execution_count": 53,
   "metadata": {},
   "outputs": [],
   "source": [
    "from sklearn.model_selection import train_test_split\n",
    "\n",
    "# Creating a train/test split\n",
    "X_train, X_test, y_train, y_test = train_test_split(X, y, test_size=0.2)"
   ]
  },
  {
   "cell_type": "markdown",
   "metadata": {},
   "source": [
    "Then I performed holdout validation"
   ]
  },
  {
   "cell_type": "code",
   "execution_count": 54,
   "metadata": {
    "scrolled": true
   },
   "outputs": [
    {
     "name": "stdout",
     "output_type": "stream",
     "text": [
      "0.0018883352253691204   0.0020541916617807343\n"
     ]
    }
   ],
   "source": [
    "# Fitting the model\n",
    "model.fit(X_train, y_train)\n",
    "\n",
    "# Running the model on the data\n",
    "y_hat_train = model.predict(X_train)\n",
    "y_hat_test = model.predict(X_test)\n",
    "\n",
    "#Finding resdual errors\n",
    "train_residuals = y_hat_train - y_train\n",
    "test_residuals = y_hat_test - y_test\n",
    "\n",
    "#Finding mean square error\n",
    "mse_train = np.sum((y_train-y_hat_train)**2)/len(y_train)\n",
    "mse_test =np.sum((y_test-y_hat_test)**2)/len(y_test)\n",
    "\n",
    "print(mse_train, ' ', mse_test)"
   ]
  },
  {
   "cell_type": "markdown",
   "metadata": {},
   "source": [
    "3 coefficients from the final model and there impact on price.\n",
    "* sqft_living. The higher the sqft living space the higher the price.\n",
    "* zipcode_98002. Houses in the zipcode 98002 tend to be less expensive.\n",
    "* view_4.0. Houses with a good view tend to be more expensive.\n"
   ]
  },
  {
   "cell_type": "markdown",
   "metadata": {},
   "source": [
    "The final model was built using the OSEMN method of data science. The model predicts quite accurately the price of a house depending on its square foot living space, view, condition, floors, zipcode and wether or not is it on the waterfront. This dataset provided challenges such as missing values and columns that did not follow the normal distribution. However these challenges were overcome by systematicaly following the OSEMN method."
   ]
  },
  {
   "cell_type": "markdown",
   "metadata": {},
   "source": [
    "This concludes the multiple linear regression project."
   ]
  },
  {
   "cell_type": "code",
   "execution_count": 55,
   "metadata": {},
   "outputs": [],
   "source": [
    "# Models can be found here, just uncomment\n",
    "\n",
    "# model.predict(X)\n",
    "\n",
    "# sm_model.summary()"
   ]
  }
 ],
 "metadata": {
  "kernelspec": {
   "display_name": "learn-env",
   "language": "python",
   "name": "learn-env"
  },
  "language_info": {
   "codemirror_mode": {
    "name": "ipython",
    "version": 3
   },
   "file_extension": ".py",
   "mimetype": "text/x-python",
   "name": "python",
   "nbconvert_exporter": "python",
   "pygments_lexer": "ipython3",
   "version": "3.6.6"
  }
 },
 "nbformat": 4,
 "nbformat_minor": 2
}
